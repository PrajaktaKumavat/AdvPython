{
  "nbformat": 4,
  "nbformat_minor": 0,
  "metadata": {
    "colab": {
      "provenance": [],
      "authorship_tag": "ABX9TyPZxiVPPpdiN4InB7QNTLco",
      "include_colab_link": true
    },
    "kernelspec": {
      "name": "python3",
      "display_name": "Python 3"
    },
    "language_info": {
      "name": "python"
    }
  },
  "cells": [
    {
      "cell_type": "markdown",
      "metadata": {
        "id": "view-in-github",
        "colab_type": "text"
      },
      "source": [
        "<a href=\"https://colab.research.google.com/github/PrajaktaKumavat/AdvPython/blob/main/Polymorphism.ipynb\" target=\"_parent\"><img src=\"https://colab.research.google.com/assets/colab-badge.svg\" alt=\"Open In Colab\"/></a>"
      ]
    },
    {
      "cell_type": "code",
      "execution_count": null,
      "metadata": {
        "id": "dnGWRLuVPPyG"
      },
      "outputs": [],
      "source": []
    },
    {
      "cell_type": "markdown",
      "source": [
        "Polymorphism\n",
        "Ability of a function to take multiple forms."
      ],
      "metadata": {
        "id": "QpuSO3swPZSi"
      }
    },
    {
      "cell_type": "markdown",
      "source": [
        "Length function"
      ],
      "metadata": {
        "id": "qNNYMNZhPcsE"
      }
    },
    {
      "cell_type": "code",
      "source": [
        "emplist = [\"Raman\",\"Thaman\",90,87.5,760000]\n",
        "emplist2 = (\"Raman\",\"Thaman\",90,87.5,760000)\n",
        "welcome = \"Hi Welcome to this class.\"\n",
        "empdata ={\n",
        "    \"ids\":[23,45,67],\n",
        "    \"names\":[\"Sindhu\",\"Bindhu\",\"Nandu\"]\n",
        "}"
      ],
      "metadata": {
        "id": "iFEDporkPdib"
      },
      "execution_count": 1,
      "outputs": []
    },
    {
      "cell_type": "code",
      "source": [
        "# returns length of elements present in the list\n",
        "len(emplist)"
      ],
      "metadata": {
        "colab": {
          "base_uri": "https://localhost:8080/"
        },
        "id": "o6qG3NIgPiNB",
        "outputId": "176dacd3-264b-4449-dd9b-542c3c78d148"
      },
      "execution_count": 2,
      "outputs": [
        {
          "output_type": "execute_result",
          "data": {
            "text/plain": [
              "5"
            ]
          },
          "metadata": {},
          "execution_count": 2
        }
      ]
    },
    {
      "cell_type": "code",
      "source": [
        "# returns length of elements present in the tuple\n",
        "len(emplist2)"
      ],
      "metadata": {
        "colab": {
          "base_uri": "https://localhost:8080/"
        },
        "id": "Q7vVlNt4PlGC",
        "outputId": "78f73d2c-b35e-4b37-8663-bcbbb4a908e3"
      },
      "execution_count": 3,
      "outputs": [
        {
          "output_type": "execute_result",
          "data": {
            "text/plain": [
              "5"
            ]
          },
          "metadata": {},
          "execution_count": 3
        }
      ]
    },
    {
      "cell_type": "code",
      "source": [
        "# returns length of characters present in the string\n",
        "len(welcome)"
      ],
      "metadata": {
        "colab": {
          "base_uri": "https://localhost:8080/"
        },
        "id": "4Y2UXfo1Prze",
        "outputId": "36015b52-958f-4bdb-fbce-19655b650d68"
      },
      "execution_count": 4,
      "outputs": [
        {
          "output_type": "execute_result",
          "data": {
            "text/plain": [
              "25"
            ]
          },
          "metadata": {},
          "execution_count": 4
        }
      ]
    },
    {
      "cell_type": "code",
      "source": [
        "# returns length of keys present in the dictionary\n",
        "len(empdata)"
      ],
      "metadata": {
        "colab": {
          "base_uri": "https://localhost:8080/"
        },
        "id": "kNqWuDrQP1iK",
        "outputId": "c5563c7a-aff3-429c-ba5d-b9a3cbbb5fb9"
      },
      "execution_count": 5,
      "outputs": [
        {
          "output_type": "execute_result",
          "data": {
            "text/plain": [
              "2"
            ]
          },
          "metadata": {},
          "execution_count": 5
        }
      ]
    },
    {
      "cell_type": "code",
      "source": [
        "empdata.keys()"
      ],
      "metadata": {
        "colab": {
          "base_uri": "https://localhost:8080/"
        },
        "id": "wfW3_0Q1P4ig",
        "outputId": "af41e6b9-a54d-4c27-aaf8-ceeacc2941dd"
      },
      "execution_count": 6,
      "outputs": [
        {
          "output_type": "execute_result",
          "data": {
            "text/plain": [
              "dict_keys(['ids', 'names'])"
            ]
          },
          "metadata": {},
          "execution_count": 6
        }
      ]
    },
    {
      "cell_type": "markdown",
      "source": [
        "+ operator"
      ],
      "metadata": {
        "id": "aW6nAxscQAqL"
      }
    },
    {
      "cell_type": "code",
      "source": [
        "# returns addition of 2 numbers provided\n",
        "90.85 + 80.15"
      ],
      "metadata": {
        "colab": {
          "base_uri": "https://localhost:8080/"
        },
        "id": "BUqF_Fz8QBn2",
        "outputId": "c20015ff-2eee-41cb-83a8-741dacd57b39"
      },
      "execution_count": 7,
      "outputs": [
        {
          "output_type": "execute_result",
          "data": {
            "text/plain": [
              "171.0"
            ]
          },
          "metadata": {},
          "execution_count": 7
        }
      ]
    },
    {
      "cell_type": "code",
      "source": [
        "# returns concatenation of 2 strings\n",
        "\"Raman\" + \"Thaman\""
      ],
      "metadata": {
        "colab": {
          "base_uri": "https://localhost:8080/",
          "height": 36
        },
        "id": "9-P6WqotQLBl",
        "outputId": "c8d3803e-d368-4c55-c592-a59e6828c96e"
      },
      "execution_count": 8,
      "outputs": [
        {
          "output_type": "execute_result",
          "data": {
            "text/plain": [
              "'RamanThaman'"
            ],
            "application/vnd.google.colaboratory.intrinsic+json": {
              "type": "string"
            }
          },
          "metadata": {},
          "execution_count": 8
        }
      ]
    },
    {
      "cell_type": "code",
      "source": [
        "# returns merged lists\n",
        "[3,4,5] + [7,8,9]"
      ],
      "metadata": {
        "colab": {
          "base_uri": "https://localhost:8080/"
        },
        "id": "r2DEwAZCQM3k",
        "outputId": "d56a0afa-bb25-4884-d83a-6561b1acfa19"
      },
      "execution_count": 9,
      "outputs": [
        {
          "output_type": "execute_result",
          "data": {
            "text/plain": [
              "[3, 4, 5, 7, 8, 9]"
            ]
          },
          "metadata": {},
          "execution_count": 9
        }
      ]
    },
    {
      "cell_type": "code",
      "source": [],
      "metadata": {
        "id": "jaTh8RqMQQB_"
      },
      "execution_count": null,
      "outputs": []
    },
    {
      "cell_type": "markdown",
      "source": [
        "User defined polymorphism scenarios"
      ],
      "metadata": {
        "id": "oKB9_1RxQZqI"
      }
    },
    {
      "cell_type": "code",
      "source": [
        "class India:\n",
        "    def capital(self):\n",
        "        print(\"Delhi is the capital of India\")\n",
        "\n",
        "    def language(self):\n",
        "        print(\"Hindi and English are widely spoken languages in India\")"
      ],
      "metadata": {
        "id": "yXVYQXrDQaxD"
      },
      "execution_count": 10,
      "outputs": []
    },
    {
      "cell_type": "code",
      "source": [
        "class USA:\n",
        "    def capital(self):\n",
        "        print(\"Washington D.C is the capital of USA\")\n",
        "\n",
        "    def language(self):\n",
        "        print(\"English is the widely spoken languages in USA\")"
      ],
      "metadata": {
        "id": "vda6zTvFQeb2"
      },
      "execution_count": 11,
      "outputs": []
    },
    {
      "cell_type": "code",
      "source": [
        "person1 = India()\n",
        "person2 = USA()"
      ],
      "metadata": {
        "id": "_7D_fpF8QjEe"
      },
      "execution_count": 12,
      "outputs": []
    },
    {
      "cell_type": "code",
      "source": [
        "person1.capital()"
      ],
      "metadata": {
        "colab": {
          "base_uri": "https://localhost:8080/"
        },
        "id": "Asu30y1YQmDs",
        "outputId": "e982006b-70cf-4aee-c1a3-44160a04bb79"
      },
      "execution_count": 13,
      "outputs": [
        {
          "output_type": "stream",
          "name": "stdout",
          "text": [
            "Delhi is the capital of India\n"
          ]
        }
      ]
    },
    {
      "cell_type": "code",
      "source": [
        "person2.capital()"
      ],
      "metadata": {
        "colab": {
          "base_uri": "https://localhost:8080/"
        },
        "id": "oWEevBcZQpfz",
        "outputId": "76568cb9-117c-4e06-d328-098fe14691e9"
      },
      "execution_count": 14,
      "outputs": [
        {
          "output_type": "stream",
          "name": "stdout",
          "text": [
            "Washington D.C is the capital of USA\n"
          ]
        }
      ]
    },
    {
      "cell_type": "code",
      "source": [
        "\n",
        "person2.language()"
      ],
      "metadata": {
        "colab": {
          "base_uri": "https://localhost:8080/"
        },
        "id": "YKklJHr0QvMY",
        "outputId": "86ee85f1-5a89-4314-e18b-b767a4094a56"
      },
      "execution_count": 15,
      "outputs": [
        {
          "output_type": "stream",
          "name": "stdout",
          "text": [
            "English is the widely spoken languages in USA\n"
          ]
        }
      ]
    },
    {
      "cell_type": "code",
      "source": [],
      "metadata": {
        "id": "jKSIWFNSQ2Oz"
      },
      "execution_count": null,
      "outputs": []
    }
  ]
}