{
  "nbformat": 4,
  "nbformat_minor": 0,
  "metadata": {
    "colab": {
      "provenance": [],
      "authorship_tag": "ABX9TyP5PYeMy1bvHSJxYrpnS9vJ",
      "include_colab_link": true
    },
    "kernelspec": {
      "name": "python3",
      "display_name": "Python 3"
    },
    "language_info": {
      "name": "python"
    }
  },
  "cells": [
    {
      "cell_type": "markdown",
      "metadata": {
        "id": "view-in-github",
        "colab_type": "text"
      },
      "source": [
        "<a href=\"https://colab.research.google.com/github/PrajaktaKumavat/AdvPython/blob/main/WebScrapingProject.ipynb\" target=\"_parent\"><img src=\"https://colab.research.google.com/assets/colab-badge.svg\" alt=\"Open In Colab\"/></a>"
      ]
    },
    {
      "cell_type": "code",
      "execution_count": null,
      "metadata": {
        "colab": {
          "base_uri": "https://localhost:8080/"
        },
        "id": "dwrBMKodi10V",
        "outputId": "65b24a62-a2ef-446d-eb5d-fbcd4ad8889e"
      },
      "outputs": [
        {
          "output_type": "stream",
          "name": "stdout",
          "text": [
            "Requirement already satisfied: beautifulsoup4 in /usr/local/lib/python3.11/dist-packages (4.13.4)\n",
            "Requirement already satisfied: requests in /usr/local/lib/python3.11/dist-packages (2.32.3)\n",
            "Requirement already satisfied: soupsieve>1.2 in /usr/local/lib/python3.11/dist-packages (from beautifulsoup4) (2.7)\n",
            "Requirement already satisfied: typing-extensions>=4.0.0 in /usr/local/lib/python3.11/dist-packages (from beautifulsoup4) (4.13.2)\n",
            "Requirement already satisfied: charset-normalizer<4,>=2 in /usr/local/lib/python3.11/dist-packages (from requests) (3.4.2)\n",
            "Requirement already satisfied: idna<4,>=2.5 in /usr/local/lib/python3.11/dist-packages (from requests) (3.10)\n",
            "Requirement already satisfied: urllib3<3,>=1.21.1 in /usr/local/lib/python3.11/dist-packages (from requests) (2.4.0)\n",
            "Requirement already satisfied: certifi>=2017.4.17 in /usr/local/lib/python3.11/dist-packages (from requests) (2025.4.26)\n"
          ]
        }
      ],
      "source": [
        "pip install beautifulsoup4 requests"
      ]
    },
    {
      "cell_type": "code",
      "source": [
        "import requests\n",
        "from bs4 import BeautifulSoup\n",
        "\n",
        "url_link = \"https://en.wikipedia.org/wiki/Data_analysis\"\n",
        "response = requests.get(url_link)\n",
        "response.status_code\n",
        "\n",
        "data = response.content\n",
        "\n",
        "soup = BeautifulSoup(response.content,'html.parser')\n",
        "\n"
      ],
      "metadata": {
        "id": "opjKHBcUlJgj"
      },
      "execution_count": 27,
      "outputs": []
    },
    {
      "cell_type": "code",
      "source": [
        "class content_scrapper:\n",
        "    # Define instance attributes\n",
        "    def __init__(self,url):\n",
        "        self.url = url\n",
        "        self.response = requests.get(url)\n",
        "        self.soup = BeautifulSoup(response.content,'html.parser')\n",
        "\n",
        "    # Get the title of the webpage\n",
        "    def get_title(self):\n",
        "        title = soup.find('title').text\n",
        "        return title\n",
        "\n",
        "    # Get the headers of the webpage\n",
        "    def get_headers(self):\n",
        "        headers = soup.find_all('h3')\n",
        "        headers = [h.text for h in headers]\n",
        "        return headers\n",
        "\n",
        "    # Get the paragraph content\n",
        "    def get_para_content(self):\n",
        "        para_content = soup.find_all('p')\n",
        "        para_contents = []\n",
        "        for p in para_content:\n",
        "            para_contents.append(p.text)\n",
        "\n",
        "        paras = '\\n'.join(para_contents)\n",
        "        return paras\n",
        "\n",
        "    # Get the image content where image urls are extracted\n",
        "    def get_img_links(self):\n",
        "        all_links = []\n",
        "        base_url = \"https://en.wikipedia.org/wiki/Data_analysis#/media/\"\n",
        "        imgs = soup.find_all('a',class_='mw-file-description')\n",
        "        img_links = [i.get('href') for i in imgs]\n",
        "        for link in img_links:\n",
        "            x = link.split('/')[-1]\n",
        "            #print(x)\n",
        "            all_links.append(base_url + x)\n",
        "        return all_links\n",
        "\n",
        "    # Get the tabular content from the webpage\n",
        "    def get_table_data(self):\n",
        "        tab_tags = soup.find_all('table',class_='wikitable')\n",
        "        dfs = []\n",
        "        for tables in tab_tags:\n",
        "            df = pd.read_html(str(tables))[0]\n",
        "            dfs.append(df)\n",
        "        return dfs"
      ],
      "metadata": {
        "id": "SY1TUziRlgD5"
      },
      "execution_count": null,
      "outputs": []
    },
    {
      "cell_type": "code",
      "source": [
        "url_link"
      ],
      "metadata": {
        "colab": {
          "base_uri": "https://localhost:8080/",
          "height": 36
        },
        "id": "Np4dPnS2lvVp",
        "outputId": "7c01db27-75ff-4634-cab2-a1ffb129ff6b"
      },
      "execution_count": 28,
      "outputs": [
        {
          "output_type": "execute_result",
          "data": {
            "text/plain": [
              "'https://en.wikipedia.org/wiki/Data_analysis'"
            ],
            "application/vnd.google.colaboratory.intrinsic+json": {
              "type": "string"
            }
          },
          "metadata": {},
          "execution_count": 28
        }
      ]
    },
    {
      "cell_type": "code",
      "source": [
        "c1 = content_scrapper(url_link)"
      ],
      "metadata": {
        "id": "dys13_CQp1pP"
      },
      "execution_count": 29,
      "outputs": []
    },
    {
      "cell_type": "code",
      "source": [
        "c1.get_img_links()"
      ],
      "metadata": {
        "colab": {
          "base_uri": "https://localhost:8080/"
        },
        "id": "NRVlRnTNqV5o",
        "outputId": "12e68127-b017-4c74-e671-3b1626d66c5d"
      },
      "execution_count": 30,
      "outputs": [
        {
          "output_type": "execute_result",
          "data": {
            "text/plain": [
              "['https://en.wikipedia.org/wiki/Data_analysis#/media/File:Rayleigh-Taylor_instability.jpg',\n",
              " 'https://en.wikipedia.org/wiki/Data_analysis#/media/File:Data_visualization_process_v1.png',\n",
              " 'https://en.wikipedia.org/wiki/Data_analysis#/media/File:Relationship_of_data,_information_and_intelligence.png',\n",
              " 'https://en.wikipedia.org/wiki/Data_analysis#/media/File:Social_Network_Analysis_Visualization.png',\n",
              " 'https://en.wikipedia.org/wiki/Data_analysis#/media/File:Total_Revenues_and_Outlays_as_Percent_GDP_2013.png',\n",
              " 'https://en.wikipedia.org/wiki/Data_analysis#/media/File:U.S._Phillips_Curve_2000_to_2013.png',\n",
              " 'https://en.wikipedia.org/wiki/Data_analysis#/media/File:US_Employment_Statistics_-_March_2015.png',\n",
              " 'https://en.wikipedia.org/wiki/Data_analysis#/media/File:User-activities.png',\n",
              " 'https://en.wikipedia.org/wiki/Data_analysis#/media/File:Wikiversity_logo_2017.svg']"
            ]
          },
          "metadata": {},
          "execution_count": 30
        }
      ]
    },
    {
      "cell_type": "code",
      "source": [
        "c1.get_headers()"
      ],
      "metadata": {
        "colab": {
          "base_uri": "https://localhost:8080/"
        },
        "id": "urNOd_HFq0n5",
        "outputId": "c1f0fb03-b4dd-4936-86ae-194d83f4d628"
      },
      "execution_count": 31,
      "outputs": [
        {
          "output_type": "execute_result",
          "data": {
            "text/plain": [
              "['Data requirements',\n",
              " 'Data collection',\n",
              " 'Data processing',\n",
              " 'Data cleaning',\n",
              " 'Exploratory data analysis',\n",
              " 'Modeling and algorithms',\n",
              " 'Data product',\n",
              " 'Communication',\n",
              " 'Confusing fact and opinion',\n",
              " 'Cognitive biases',\n",
              " 'Innumeracy',\n",
              " 'Smart buildings',\n",
              " 'Analytics and business intelligence',\n",
              " 'Education',\n",
              " 'Initial data analysis',\n",
              " 'Main data analysis',\n",
              " 'Citations',\n",
              " 'Bibliography']"
            ]
          },
          "metadata": {},
          "execution_count": 31
        }
      ]
    },
    {
      "cell_type": "code",
      "source": [
        "url_link2 = \"https://en.wikipedia.org/wiki/Machine_learning\""
      ],
      "metadata": {
        "id": "TaxurDQRq1Wa"
      },
      "execution_count": 33,
      "outputs": []
    },
    {
      "cell_type": "code",
      "source": [
        "c2 = content_scrapper(url_link2)"
      ],
      "metadata": {
        "id": "tHoWwey0q9ap"
      },
      "execution_count": 34,
      "outputs": []
    },
    {
      "cell_type": "code",
      "source": [
        "c2.get_title()"
      ],
      "metadata": {
        "colab": {
          "base_uri": "https://localhost:8080/",
          "height": 36
        },
        "id": "Y2TlBvZyrAzc",
        "outputId": "d6366ebd-b8c4-49f4-ff31-c38b6a617767"
      },
      "execution_count": 35,
      "outputs": [
        {
          "output_type": "execute_result",
          "data": {
            "text/plain": [
              "'Data analysis - Wikipedia'"
            ],
            "application/vnd.google.colaboratory.intrinsic+json": {
              "type": "string"
            }
          },
          "metadata": {},
          "execution_count": 35
        }
      ]
    },
    {
      "cell_type": "code",
      "source": [
        "c2.get_headers()"
      ],
      "metadata": {
        "colab": {
          "base_uri": "https://localhost:8080/"
        },
        "id": "tjNeZJdVrEks",
        "outputId": "86b713d6-d87c-41e6-cdc1-5f7f01eafb7e"
      },
      "execution_count": 37,
      "outputs": [
        {
          "output_type": "execute_result",
          "data": {
            "text/plain": [
              "['Data requirements',\n",
              " 'Data collection',\n",
              " 'Data processing',\n",
              " 'Data cleaning',\n",
              " 'Exploratory data analysis',\n",
              " 'Modeling and algorithms',\n",
              " 'Data product',\n",
              " 'Communication',\n",
              " 'Confusing fact and opinion',\n",
              " 'Cognitive biases',\n",
              " 'Innumeracy',\n",
              " 'Smart buildings',\n",
              " 'Analytics and business intelligence',\n",
              " 'Education',\n",
              " 'Initial data analysis',\n",
              " 'Main data analysis',\n",
              " 'Citations',\n",
              " 'Bibliography']"
            ]
          },
          "metadata": {},
          "execution_count": 37
        }
      ]
    },
    {
      "cell_type": "code",
      "source": [],
      "metadata": {
        "id": "qj9rTE0nrFFE"
      },
      "execution_count": null,
      "outputs": []
    }
  ]
}