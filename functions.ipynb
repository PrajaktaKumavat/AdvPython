{
  "nbformat": 4,
  "nbformat_minor": 0,
  "metadata": {
    "colab": {
      "provenance": [],
      "authorship_tag": "ABX9TyMS06VP7/iDIg91tYwQCF7/",
      "include_colab_link": true
    },
    "kernelspec": {
      "name": "python3",
      "display_name": "Python 3"
    },
    "language_info": {
      "name": "python"
    }
  },
  "cells": [
    {
      "cell_type": "markdown",
      "metadata": {
        "id": "view-in-github",
        "colab_type": "text"
      },
      "source": [
        "<a href=\"https://colab.research.google.com/github/PrajaktaKumavat/AdvPython/blob/main/functions.ipynb\" target=\"_parent\"><img src=\"https://colab.research.google.com/assets/colab-badge.svg\" alt=\"Open In Colab\"/></a>"
      ]
    },
    {
      "cell_type": "code",
      "execution_count": null,
      "metadata": {
        "id": "TIGPPgbZTRFl"
      },
      "outputs": [],
      "source": []
    },
    {
      "cell_type": "code",
      "source": [
        "def add(x,y):\n",
        "  \"\"\n",
        "  c1=x+y\n",
        "  return c1\n",
        "a1 = add(15,75)\n",
        "print(a1)"
      ],
      "metadata": {
        "colab": {
          "base_uri": "https://localhost:8080/"
        },
        "id": "S5zUuDb2TXsK",
        "outputId": "2641006b-3411-4428-b1ad-738c042f7809"
      },
      "execution_count": 6,
      "outputs": [
        {
          "output_type": "stream",
          "name": "stdout",
          "text": [
            "90\n"
          ]
        }
      ]
    },
    {
      "cell_type": "code",
      "source": [
        "def add2(*args):\n",
        "  s=0\n",
        "  for i in args:\n",
        "    s=s+i\n",
        "  return s\n",
        "\n",
        "s1 = add2(45,67,89,23,12,67,45)\n",
        "s1"
      ],
      "metadata": {
        "colab": {
          "base_uri": "https://localhost:8080/"
        },
        "id": "s5zXkd-dTZnL",
        "outputId": "c55ed701-ab1d-45ef-a772-ff892bfc042b"
      },
      "execution_count": 8,
      "outputs": [
        {
          "output_type": "execute_result",
          "data": {
            "text/plain": [
              "348"
            ]
          },
          "metadata": {},
          "execution_count": 8
        }
      ]
    },
    {
      "cell_type": "code",
      "source": [
        "def multiply(x,*args):\n",
        "    \"\"\"\n",
        "    Inputs: X and multiple arguments\n",
        "    Output: Returns a welcome statement along with product of given arguments\n",
        "    \"\"\"\n",
        "    welcome = f\"Welcome {x}\"\n",
        "    p = 1\n",
        "    for i in args:\n",
        "        p = i*p\n",
        "    return f\"{welcome}. Product of given data is {p}\""
      ],
      "metadata": {
        "id": "7MYG4mmmY2gS"
      },
      "execution_count": 9,
      "outputs": []
    },
    {
      "cell_type": "code",
      "source": [
        "m1 = multiply(\"Raman\",67,78,34,23,34)"
      ],
      "metadata": {
        "id": "hQBPK7oxZDtv"
      },
      "execution_count": 10,
      "outputs": []
    },
    {
      "cell_type": "code",
      "source": [
        "m1"
      ],
      "metadata": {
        "colab": {
          "base_uri": "https://localhost:8080/",
          "height": 36
        },
        "id": "8jgx9W4wZGch",
        "outputId": "9a6546fe-2086-4d8c-f0e7-1b1407eb7c0d"
      },
      "execution_count": 11,
      "outputs": [
        {
          "output_type": "execute_result",
          "data": {
            "text/plain": [
              "'Welcome Raman. Product of given data is 138948888'"
            ],
            "application/vnd.google.colaboratory.intrinsic+json": {
              "type": "string"
            }
          },
          "metadata": {},
          "execution_count": 11
        }
      ]
    },
    {
      "cell_type": "code",
      "source": [],
      "metadata": {
        "id": "bhYbu2KgZIAG"
      },
      "execution_count": null,
      "outputs": []
    }
  ]
}