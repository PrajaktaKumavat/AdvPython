{
  "nbformat": 4,
  "nbformat_minor": 0,
  "metadata": {
    "colab": {
      "provenance": [],
      "authorship_tag": "ABX9TyNJsHQwTae1hbfz0veGVx4i",
      "include_colab_link": true
    },
    "kernelspec": {
      "name": "python3",
      "display_name": "Python 3"
    },
    "language_info": {
      "name": "python"
    }
  },
  "cells": [
    {
      "cell_type": "markdown",
      "metadata": {
        "id": "view-in-github",
        "colab_type": "text"
      },
      "source": [
        "<a href=\"https://colab.research.google.com/github/PrajaktaKumavat/AdvPython/blob/main/ExceptionHandling_.ipynb\" target=\"_parent\"><img src=\"https://colab.research.google.com/assets/colab-badge.svg\" alt=\"Open In Colab\"/></a>"
      ]
    },
    {
      "cell_type": "code",
      "execution_count": 1,
      "metadata": {
        "id": "Xvrp_JVaWj9I"
      },
      "outputs": [],
      "source": [
        "\n",
        "def divide():\n",
        "    num1 = int(input(\"Enter a number\"))\n",
        "    num2 = int(input(\"Enter another number\"))\n",
        "\n",
        "    return num1/num2\n"
      ]
    },
    {
      "cell_type": "code",
      "source": [
        "\n",
        "divide()"
      ],
      "metadata": {
        "colab": {
          "base_uri": "https://localhost:8080/"
        },
        "id": "L62NPzvXWule",
        "outputId": "6016c62e-aa0c-4771-9c54-0f77c1711d5b"
      },
      "execution_count": 2,
      "outputs": [
        {
          "name": "stdout",
          "output_type": "stream",
          "text": [
            "Enter a number32\n",
            "Enter another number7\n"
          ]
        },
        {
          "output_type": "execute_result",
          "data": {
            "text/plain": [
              "4.571428571428571"
            ]
          },
          "metadata": {},
          "execution_count": 2
        }
      ]
    },
    {
      "cell_type": "code",
      "source": [
        "\n",
        "def divide2():\n",
        "    try:\n",
        "        num1 = int(input(\"Enter a number\"))\n",
        "        num2 = int(input(\"Enter another number\"))\n",
        "\n",
        "        return num1/num2\n",
        "    except ValueError as e:\n",
        "        print(f\"Error {e} has occurred. \")\n",
        "        print(\"You have provided non numeric data. Kindly provide only numeric data other than 0\")\n",
        "    except ZeroDivisionError as e:\n",
        "        print(f\"Error {e} has occurred. You have to provide numeric data other than ZERO\")"
      ],
      "metadata": {
        "id": "y0hXvHOIWxTO"
      },
      "execution_count": 3,
      "outputs": []
    },
    {
      "cell_type": "code",
      "source": [
        "\n",
        "divide2()"
      ],
      "metadata": {
        "colab": {
          "base_uri": "https://localhost:8080/"
        },
        "id": "EDUD8pqwW-M9",
        "outputId": "e9f0b824-61a5-41c4-9976-4181f72917b2"
      },
      "execution_count": 4,
      "outputs": [
        {
          "output_type": "stream",
          "name": "stdout",
          "text": [
            "Enter a number32\n",
            "Enter another numbert\n",
            "Error invalid literal for int() with base 10: 't' has occurred. \n",
            "You have provided non numeric data. Kindly provide only numeric data other than 0\n"
          ]
        }
      ]
    },
    {
      "cell_type": "code",
      "source": [
        "\n",
        "def divide3():\n",
        "    try:\n",
        "        num1 = int(input(\"Enter a number\"))\n",
        "        num2 = int(input(\"Enter another number\"))\n",
        "\n",
        "        return num1/num2\n",
        "    except Exception as e:\n",
        "        print(f\"Error has occurred. Kindly provide any Numeric data Other than ZERO\")"
      ],
      "metadata": {
        "id": "VZkw2Pn_XCyK"
      },
      "execution_count": 5,
      "outputs": []
    },
    {
      "cell_type": "code",
      "source": [
        "\n",
        "divide3()\n"
      ],
      "metadata": {
        "colab": {
          "base_uri": "https://localhost:8080/"
        },
        "id": "Zr2rNBiIXLB-",
        "outputId": "55a7825b-ea0e-4070-e404-edf6b70f0097"
      },
      "execution_count": 6,
      "outputs": [
        {
          "output_type": "stream",
          "name": "stdout",
          "text": [
            "Enter a number57\n",
            "Enter another number0\n",
            "Error has occurred. Kindly provide any Numeric data Other than ZERO\n"
          ]
        }
      ]
    },
    {
      "cell_type": "code",
      "source": [
        "\n",
        "def divide4():\n",
        "    try:\n",
        "        num1 = int(input(\"Enter a number\"))\n",
        "        num2 = int(input(\"Enter another number\"))\n",
        "\n",
        "        return num1/num2\n",
        "    except ValueError as e:\n",
        "        print(f\"Error {e} has occurred. \")\n",
        "        print(\"You have provided non numeric data. Kindly provide only numeric data other than 0\")\n",
        "\n",
        "    except Exception as e:\n",
        "        print(\"Error has occurred. Kindly provide any Numeric data Other than ZERO\")"
      ],
      "metadata": {
        "id": "vgn5SmxMXNGz"
      },
      "execution_count": 7,
      "outputs": []
    },
    {
      "cell_type": "markdown",
      "source": [
        "# Finally block"
      ],
      "metadata": {
        "id": "xi_SwcZjXZTP"
      }
    },
    {
      "cell_type": "code",
      "source": [
        "\n",
        "import math\n",
        "def calculate_squareroot(n):\n",
        "    try:\n",
        "        x = math.sqrt(n)\n",
        "        return x\n",
        "    except Exception as e:\n",
        "        print(f\"Exception {e} has occurred.\")\n",
        "    finally:\n",
        "        print(\"Welcome to the coding page. Thanks for trying this program.\")"
      ],
      "metadata": {
        "id": "_zHmTKaxXRZq"
      },
      "execution_count": 8,
      "outputs": []
    },
    {
      "cell_type": "code",
      "source": [
        "\n",
        "c_s = calculate_squareroot(89)\n",
        "c_s\n"
      ],
      "metadata": {
        "colab": {
          "base_uri": "https://localhost:8080/"
        },
        "id": "Vp5EwKovXf7s",
        "outputId": "12e3ec19-edd6-4302-be41-307424382b58"
      },
      "execution_count": 9,
      "outputs": [
        {
          "output_type": "stream",
          "name": "stdout",
          "text": [
            "Welcome to the coding page. Thanks for trying this program.\n"
          ]
        },
        {
          "output_type": "execute_result",
          "data": {
            "text/plain": [
              "9.433981132056603"
            ]
          },
          "metadata": {},
          "execution_count": 9
        }
      ]
    },
    {
      "cell_type": "code",
      "source": [
        "\n",
        "calculate_squareroot(\"text\")"
      ],
      "metadata": {
        "colab": {
          "base_uri": "https://localhost:8080/"
        },
        "id": "ujolUn9qXhyo",
        "outputId": "3a27cf9d-bd93-4267-c4b7-0a1e8bec38fa"
      },
      "execution_count": 10,
      "outputs": [
        {
          "output_type": "stream",
          "name": "stdout",
          "text": [
            "Exception must be real number, not str has occurred.\n",
            "Welcome to the coding page. Thanks for trying this program.\n"
          ]
        }
      ]
    },
    {
      "cell_type": "code",
      "source": [],
      "metadata": {
        "id": "G50DqFJlXlyi"
      },
      "execution_count": null,
      "outputs": []
    }
  ]
}