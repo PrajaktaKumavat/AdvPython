{
  "nbformat": 4,
  "nbformat_minor": 0,
  "metadata": {
    "colab": {
      "provenance": [],
      "authorship_tag": "ABX9TyNaXbIm0jbjWCu0n5BgEa4I",
      "include_colab_link": true
    },
    "kernelspec": {
      "name": "python3",
      "display_name": "Python 3"
    },
    "language_info": {
      "name": "python"
    }
  },
  "cells": [
    {
      "cell_type": "markdown",
      "metadata": {
        "id": "view-in-github",
        "colab_type": "text"
      },
      "source": [
        "<a href=\"https://colab.research.google.com/github/PrajaktaKumavat/AdvPython/blob/main/functions.ipynb\" target=\"_parent\"><img src=\"https://colab.research.google.com/assets/colab-badge.svg\" alt=\"Open In Colab\"/></a>"
      ]
    },
    {
      "cell_type": "code",
      "execution_count": null,
      "metadata": {
        "id": "TIGPPgbZTRFl"
      },
      "outputs": [],
      "source": []
    },
    {
      "cell_type": "code",
      "source": [
        "def add(x,y):\n",
        "  \"\"\n",
        "  c1=x+y\n",
        "  return c1\n",
        "a1 = add(15,75)\n",
        "print(a1)"
      ],
      "metadata": {
        "colab": {
          "base_uri": "https://localhost:8080/"
        },
        "id": "S5zUuDb2TXsK",
        "outputId": "2641006b-3411-4428-b1ad-738c042f7809"
      },
      "execution_count": 6,
      "outputs": [
        {
          "output_type": "stream",
          "name": "stdout",
          "text": [
            "90\n"
          ]
        }
      ]
    },
    {
      "cell_type": "code",
      "source": [
        "def add2(*args):\n",
        "  s=0\n",
        "  for i in args:\n",
        "    s=s+i\n",
        "  return s\n",
        "\n",
        "s1 = add2(45,67,89,23,12,67,45)\n",
        "s1"
      ],
      "metadata": {
        "colab": {
          "base_uri": "https://localhost:8080/"
        },
        "id": "s5zXkd-dTZnL",
        "outputId": "c55ed701-ab1d-45ef-a772-ff892bfc042b"
      },
      "execution_count": 8,
      "outputs": [
        {
          "output_type": "execute_result",
          "data": {
            "text/plain": [
              "348"
            ]
          },
          "metadata": {},
          "execution_count": 8
        }
      ]
    },
    {
      "cell_type": "code",
      "source": [
        "def multiply(x,*args):\n",
        "    \"\"\"\n",
        "    Inputs: X and multiple arguments\n",
        "    Output: Returns a welcome statement along with product of given arguments\n",
        "    \"\"\"\n",
        "    welcome = f\"Welcome {x}\"\n",
        "    p = 1\n",
        "    for i in args:\n",
        "        p = i*p\n",
        "    return f\"{welcome}. Product of given data is {p}\""
      ],
      "metadata": {
        "id": "7MYG4mmmY2gS"
      },
      "execution_count": 9,
      "outputs": []
    },
    {
      "cell_type": "code",
      "source": [
        "m1 = multiply(\"Raman\",67,78,34,23,34)"
      ],
      "metadata": {
        "id": "hQBPK7oxZDtv"
      },
      "execution_count": 10,
      "outputs": []
    },
    {
      "cell_type": "code",
      "source": [
        "m1"
      ],
      "metadata": {
        "colab": {
          "base_uri": "https://localhost:8080/",
          "height": 36
        },
        "id": "8jgx9W4wZGch",
        "outputId": "9a6546fe-2086-4d8c-f0e7-1b1407eb7c0d"
      },
      "execution_count": 11,
      "outputs": [
        {
          "output_type": "execute_result",
          "data": {
            "text/plain": [
              "'Welcome Raman. Product of given data is 138948888'"
            ],
            "application/vnd.google.colaboratory.intrinsic+json": {
              "type": "string"
            }
          },
          "metadata": {},
          "execution_count": 11
        }
      ]
    },
    {
      "cell_type": "markdown",
      "source": [
        "\n",
        "I have employee data with me. Emp ids and empnames are stored in lists.I want to update their department details , let's assume IT department\n"
      ],
      "metadata": {
        "id": "pcMdZffKnenm"
      }
    },
    {
      "cell_type": "code",
      "source": [
        "employee1 = [101,\"Raman\"]\n",
        "employee2 = [102,\"Thaman\"]\n",
        "employee3 = [103,\"Suman\"]"
      ],
      "metadata": {
        "id": "gr5-axKtngM9"
      },
      "execution_count": 13,
      "outputs": []
    },
    {
      "cell_type": "code",
      "source": [
        "def add_dept(*args):\n",
        "    for i in args:\n",
        "        i.append(\"IT\")"
      ],
      "metadata": {
        "id": "uv3MpXwRnoAy"
      },
      "execution_count": 14,
      "outputs": []
    },
    {
      "cell_type": "code",
      "source": [
        "add_dept(employee1,employee2,employee3)"
      ],
      "metadata": {
        "id": "JkKi6JyZnpAU"
      },
      "execution_count": 15,
      "outputs": []
    },
    {
      "cell_type": "code",
      "source": [
        "employee3"
      ],
      "metadata": {
        "colab": {
          "base_uri": "https://localhost:8080/"
        },
        "id": "Gb5NOSW0ntVH",
        "outputId": "9c90dbcd-bc98-46a2-fc6b-848e990334db"
      },
      "execution_count": 16,
      "outputs": [
        {
          "output_type": "execute_result",
          "data": {
            "text/plain": [
              "[103, 'Suman', 'IT']"
            ]
          },
          "metadata": {},
          "execution_count": 16
        }
      ]
    },
    {
      "cell_type": "markdown",
      "source": [
        "Keyword arguments **kwargs"
      ],
      "metadata": {
        "id": "86in5rMbn3yI"
      }
    },
    {
      "cell_type": "code",
      "source": [
        "add(56,78)"
      ],
      "metadata": {
        "colab": {
          "base_uri": "https://localhost:8080/"
        },
        "id": "qQElKc6Dn4YW",
        "outputId": "d3d13333-fcdd-4901-a3d0-479e181c3f2c"
      },
      "execution_count": 17,
      "outputs": [
        {
          "output_type": "execute_result",
          "data": {
            "text/plain": [
              "134"
            ]
          },
          "metadata": {},
          "execution_count": 17
        }
      ]
    },
    {
      "cell_type": "code",
      "source": [
        "def func(**kwargs):\n",
        "    print(type(kwargs))\n",
        "    print(kwargs.items())"
      ],
      "metadata": {
        "id": "2RLhq7dyn7Tn"
      },
      "execution_count": 18,
      "outputs": []
    },
    {
      "cell_type": "code",
      "source": [
        "dct = {\n",
        "    \"emp\":101,\n",
        "    \"dept\":\"HR\"\n",
        "}"
      ],
      "metadata": {
        "id": "6ckxOPqpn_C8"
      },
      "execution_count": 19,
      "outputs": []
    },
    {
      "cell_type": "code",
      "source": [
        "type(dct)"
      ],
      "metadata": {
        "colab": {
          "base_uri": "https://localhost:8080/"
        },
        "id": "9B729Mn1oDzo",
        "outputId": "08e7da55-cd12-405b-8066-35f6f2c0e7c8"
      },
      "execution_count": 20,
      "outputs": [
        {
          "output_type": "execute_result",
          "data": {
            "text/plain": [
              "dict"
            ]
          },
          "metadata": {},
          "execution_count": 20
        }
      ]
    },
    {
      "cell_type": "code",
      "source": [
        "dct.items()"
      ],
      "metadata": {
        "colab": {
          "base_uri": "https://localhost:8080/"
        },
        "id": "Ol-j7MM6oHMb",
        "outputId": "0438a9fa-2d9c-4046-a01e-acace7898db4"
      },
      "execution_count": 21,
      "outputs": [
        {
          "output_type": "execute_result",
          "data": {
            "text/plain": [
              "dict_items([('emp', 101), ('dept', 'HR')])"
            ]
          },
          "metadata": {},
          "execution_count": 21
        }
      ]
    },
    {
      "cell_type": "code",
      "source": [
        "func(id=101,dept=\"hr\")"
      ],
      "metadata": {
        "colab": {
          "base_uri": "https://localhost:8080/"
        },
        "id": "yM3OVcCdoKgJ",
        "outputId": "2b9e5861-10d5-4a2a-ac4d-2167c441098c"
      },
      "execution_count": 22,
      "outputs": [
        {
          "output_type": "stream",
          "name": "stdout",
          "text": [
            "<class 'dict'>\n",
            "dict_items([('id', 101), ('dept', 'hr')])\n"
          ]
        }
      ]
    },
    {
      "cell_type": "code",
      "source": [
        "def func2(**kwargs):\n",
        "    print(kwargs.keys())\n",
        "    print(kwargs.values())"
      ],
      "metadata": {
        "id": "75oVbpGzoOXd"
      },
      "execution_count": 23,
      "outputs": []
    },
    {
      "cell_type": "code",
      "source": [
        "func2(ids=[101,201,301],depts=(\"hr\",\"sales\",\"marketing\"))"
      ],
      "metadata": {
        "colab": {
          "base_uri": "https://localhost:8080/"
        },
        "id": "-HlMYTLEoUBu",
        "outputId": "502d8487-1354-4072-fbf2-4496b7581aac"
      },
      "execution_count": 24,
      "outputs": [
        {
          "output_type": "stream",
          "name": "stdout",
          "text": [
            "dict_keys(['ids', 'depts'])\n",
            "dict_values([[101, 201, 301], ('hr', 'sales', 'marketing')])\n"
          ]
        }
      ]
    },
    {
      "cell_type": "markdown",
      "source": [
        "Write a function that returns the length of input items passed to it\n"
      ],
      "metadata": {
        "id": "ctG32zHkoaAJ"
      }
    },
    {
      "cell_type": "code",
      "source": [
        "employee2.append(67000)"
      ],
      "metadata": {
        "id": "4bvHYljJod76"
      },
      "execution_count": 25,
      "outputs": []
    },
    {
      "cell_type": "code",
      "source": [
        "employee3.append(True)"
      ],
      "metadata": {
        "id": "0W0Il80boiiB"
      },
      "execution_count": 26,
      "outputs": []
    },
    {
      "cell_type": "code",
      "source": [
        "employee3"
      ],
      "metadata": {
        "colab": {
          "base_uri": "https://localhost:8080/"
        },
        "id": "mYr3spKsoqb3",
        "outputId": "6f285c8c-4abe-460f-ae0a-b6736e502d7b"
      },
      "execution_count": 27,
      "outputs": [
        {
          "output_type": "execute_result",
          "data": {
            "text/plain": [
              "[103, 'Suman', 'IT', True]"
            ]
          },
          "metadata": {},
          "execution_count": 27
        }
      ]
    },
    {
      "cell_type": "code",
      "source": [
        "dct"
      ],
      "metadata": {
        "colab": {
          "base_uri": "https://localhost:8080/"
        },
        "id": "317nnr0aotjK",
        "outputId": "00401a86-57c8-4bcb-c535-40ad6fec8dcf"
      },
      "execution_count": 28,
      "outputs": [
        {
          "output_type": "execute_result",
          "data": {
            "text/plain": [
              "{'emp': 101, 'dept': 'HR'}"
            ]
          },
          "metadata": {},
          "execution_count": 28
        }
      ]
    },
    {
      "cell_type": "code",
      "source": [
        "for k,v in dct.items():\n",
        "    print(f\"key is : {k}\")\n",
        "    print(f\"value is {v}\")"
      ],
      "metadata": {
        "colab": {
          "base_uri": "https://localhost:8080/"
        },
        "id": "JtoOsnZTpc-9",
        "outputId": "6090bf5b-ff93-4f31-f5f7-aaa128b891a1"
      },
      "execution_count": 29,
      "outputs": [
        {
          "output_type": "stream",
          "name": "stdout",
          "text": [
            "key is : emp\n",
            "value is 101\n",
            "key is : dept\n",
            "value is HR\n"
          ]
        }
      ]
    },
    {
      "cell_type": "code",
      "source": [
        "def len_data(**kwargs):\n",
        "    dct = {}\n",
        "    for key,data in kwargs.items():\n",
        "        dct[key] = len(data)\n",
        "        # dct[emp1]=len(employee1)\n",
        "        # dct[emp2]=len(employee2)\n",
        "        # dct[emp3] = len(employee3)\n",
        "    return dct\n",
        "    # dct.items() : ((emp1,3),(emp2,4),(emp3,5))"
      ],
      "metadata": {
        "id": "x7hV4T-CpeIc"
      },
      "execution_count": 30,
      "outputs": []
    },
    {
      "cell_type": "code",
      "source": [
        "len_data(emp1=employee1,emp2=employee2,emp3=employee3)"
      ],
      "metadata": {
        "colab": {
          "base_uri": "https://localhost:8080/"
        },
        "id": "2p4dNz6RpkXX",
        "outputId": "307fbb28-39d4-4c73-b753-21b2aa6250cc"
      },
      "execution_count": 31,
      "outputs": [
        {
          "output_type": "execute_result",
          "data": {
            "text/plain": [
              "{'emp1': 3, 'emp2': 4, 'emp3': 4}"
            ]
          },
          "metadata": {},
          "execution_count": 31
        }
      ]
    },
    {
      "cell_type": "code",
      "source": [],
      "metadata": {
        "id": "kI_G1ETDpn7X"
      },
      "execution_count": null,
      "outputs": []
    }
  ]
}