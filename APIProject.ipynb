{
  "nbformat": 4,
  "nbformat_minor": 0,
  "metadata": {
    "colab": {
      "provenance": [],
      "authorship_tag": "ABX9TyMruTVWOSNEAp7hV8buvI/6",
      "include_colab_link": true
    },
    "kernelspec": {
      "name": "python3",
      "display_name": "Python 3"
    },
    "language_info": {
      "name": "python"
    }
  },
  "cells": [
    {
      "cell_type": "markdown",
      "metadata": {
        "id": "view-in-github",
        "colab_type": "text"
      },
      "source": [
        "<a href=\"https://colab.research.google.com/github/PrajaktaKumavat/AdvPython/blob/main/APIProject.ipynb\" target=\"_parent\"><img src=\"https://colab.research.google.com/assets/colab-badge.svg\" alt=\"Open In Colab\"/></a>"
      ]
    },
    {
      "cell_type": "code",
      "execution_count": 1,
      "metadata": {
        "id": "JOpjE4Zb4WXc"
      },
      "outputs": [],
      "source": [
        "import requests,csv"
      ]
    },
    {
      "cell_type": "code",
      "source": [
        "#Load the API key from .env file\n",
        "%pip install python-dotenv requests"
      ],
      "metadata": {
        "colab": {
          "base_uri": "https://localhost:8080/"
        },
        "id": "f82oMVM34ydQ",
        "outputId": "aba882fb-6ded-42d9-87bc-2d65e6336223"
      },
      "execution_count": 2,
      "outputs": [
        {
          "output_type": "stream",
          "name": "stdout",
          "text": [
            "Collecting python-dotenv\n",
            "  Downloading python_dotenv-1.1.0-py3-none-any.whl.metadata (24 kB)\n",
            "Requirement already satisfied: requests in /usr/local/lib/python3.11/dist-packages (2.32.3)\n",
            "Requirement already satisfied: charset-normalizer<4,>=2 in /usr/local/lib/python3.11/dist-packages (from requests) (3.4.2)\n",
            "Requirement already satisfied: idna<4,>=2.5 in /usr/local/lib/python3.11/dist-packages (from requests) (3.10)\n",
            "Requirement already satisfied: urllib3<3,>=1.21.1 in /usr/local/lib/python3.11/dist-packages (from requests) (2.4.0)\n",
            "Requirement already satisfied: certifi>=2017.4.17 in /usr/local/lib/python3.11/dist-packages (from requests) (2025.4.26)\n",
            "Downloading python_dotenv-1.1.0-py3-none-any.whl (20 kB)\n",
            "Installing collected packages: python-dotenv\n",
            "Successfully installed python-dotenv-1.1.0\n"
          ]
        }
      ]
    },
    {
      "cell_type": "code",
      "source": [
        "# Load the API key from .env file\n",
        "from dotenv import load_dotenv\n",
        "load_dotenv()"
      ],
      "metadata": {
        "colab": {
          "base_uri": "https://localhost:8080/"
        },
        "id": "GKQUk_sl4zAV",
        "outputId": "f37b7b36-2ee9-47c5-ffbf-b158f13e8c5d"
      },
      "execution_count": 3,
      "outputs": [
        {
          "output_type": "execute_result",
          "data": {
            "text/plain": [
              "False"
            ]
          },
          "metadata": {},
          "execution_count": 3
        }
      ]
    },
    {
      "cell_type": "code",
      "source": [
        "import os\n",
        "api_key = os.getenv(\"API_KEY\")"
      ],
      "metadata": {
        "id": "OXgT0x1g43An"
      },
      "execution_count": 4,
      "outputs": []
    },
    {
      "cell_type": "code",
      "source": [
        "\n",
        "class api_extracter:\n",
        "\n",
        "    # create instance attributes\n",
        "    def __init__(self,api_key):\n",
        "        self.api_key = api_key\n",
        "\n",
        "    def get_data(self):\n",
        "\n",
        "        url = \"https://imdb232.p.rapidapi.com/api/title/get-most-popular\"\n",
        "\n",
        "        querystring = {\"limit\":\"20\",\"topMeterTitlesType\":\"ALL\"}\n",
        "\n",
        "        headers = {\n",
        "            \"x-rapidapi-key\": api_key,\n",
        "            \"x-rapidapi-host\": \"imdb232.p.rapidapi.com\"\n",
        "        }\n",
        "\n",
        "        response = requests.get(url, headers=headers, params=querystring)\n",
        "\n",
        "        api_data = response.json()\n",
        "\n",
        "        nodes = api_data.get('data',{}).get('topMeterTitles',{}).get('edges',{})\n",
        "        popular_movie_data = []\n",
        "        for nd in nodes:\n",
        "            node = nd.get('node',{})\n",
        "            title = node.get('titleText',{}).get('text',{})\n",
        "            year = node.get('releaseYear',{}).get('year',{})\n",
        "            ranks = node.get('meterRanking',{}).get('currentRank',{})\n",
        "            #print(title,year,ranks)\n",
        "            popular_movie_data.append([title,year,ranks])\n",
        "\n",
        "        return popular_movie_data\n",
        "\n",
        "    def save_data(self):\n",
        "        with open(\"Top_movies.csv\",\"w\",encoding=\"utf-8\") as file:\n",
        "            writer = csv.writer(file)\n",
        "            writer.writerow([\"Movie Titles\",\"Release Year\",\"Rank\"]) # represents the column names\n",
        "            writer.writerows(popular_movie_data) # represents rows of data being inserted\n",
        "        print(\"File is saved successfully\")\n",
        ""
      ],
      "metadata": {
        "id": "8Qb_NKAg460j"
      },
      "execution_count": 5,
      "outputs": []
    },
    {
      "cell_type": "code",
      "source": [
        "api1 = api_extracter(api_key)"
      ],
      "metadata": {
        "id": "jT2RLIFz6JrQ"
      },
      "execution_count": 6,
      "outputs": []
    },
    {
      "cell_type": "code",
      "source": [
        "data1 = api1.get_data()\n",
        "data1"
      ],
      "metadata": {
        "colab": {
          "base_uri": "https://localhost:8080/"
        },
        "id": "yhoTkX6i6LcH",
        "outputId": "a5232221-70ca-46fb-b7f8-7d56b6cc1176"
      },
      "execution_count": 7,
      "outputs": [
        {
          "output_type": "execute_result",
          "data": {
            "text/plain": [
              "[]"
            ]
          },
          "metadata": {},
          "execution_count": 7
        }
      ]
    },
    {
      "cell_type": "code",
      "source": [
        "\n",
        "api1.save_data()"
      ],
      "metadata": {
        "colab": {
          "base_uri": "https://localhost:8080/",
          "height": 263
        },
        "id": "0DMDDdLS6RVX",
        "outputId": "6058e878-06c8-4fc8-f9d5-4bc5cecf029f"
      },
      "execution_count": 8,
      "outputs": [
        {
          "output_type": "error",
          "ename": "NameError",
          "evalue": "name 'popular_movie_data' is not defined",
          "traceback": [
            "\u001b[0;31m---------------------------------------------------------------------------\u001b[0m",
            "\u001b[0;31mNameError\u001b[0m                                 Traceback (most recent call last)",
            "\u001b[0;32m<ipython-input-8-669a4421d47e>\u001b[0m in \u001b[0;36m<cell line: 0>\u001b[0;34m()\u001b[0m\n\u001b[0;32m----> 1\u001b[0;31m \u001b[0mapi1\u001b[0m\u001b[0;34m.\u001b[0m\u001b[0msave_data\u001b[0m\u001b[0;34m(\u001b[0m\u001b[0;34m)\u001b[0m\u001b[0;34m\u001b[0m\u001b[0;34m\u001b[0m\u001b[0m\n\u001b[0m",
            "\u001b[0;32m<ipython-input-5-35845a38689a>\u001b[0m in \u001b[0;36msave_data\u001b[0;34m(self)\u001b[0m\n\u001b[1;32m     36\u001b[0m             \u001b[0mwriter\u001b[0m \u001b[0;34m=\u001b[0m \u001b[0mcsv\u001b[0m\u001b[0;34m.\u001b[0m\u001b[0mwriter\u001b[0m\u001b[0;34m(\u001b[0m\u001b[0mfile\u001b[0m\u001b[0;34m)\u001b[0m\u001b[0;34m\u001b[0m\u001b[0;34m\u001b[0m\u001b[0m\n\u001b[1;32m     37\u001b[0m             \u001b[0mwriter\u001b[0m\u001b[0;34m.\u001b[0m\u001b[0mwriterow\u001b[0m\u001b[0;34m(\u001b[0m\u001b[0;34m[\u001b[0m\u001b[0;34m\"Movie Titles\"\u001b[0m\u001b[0;34m,\u001b[0m\u001b[0;34m\"Release Year\"\u001b[0m\u001b[0;34m,\u001b[0m\u001b[0;34m\"Rank\"\u001b[0m\u001b[0;34m]\u001b[0m\u001b[0;34m)\u001b[0m \u001b[0;31m# represents the column names\u001b[0m\u001b[0;34m\u001b[0m\u001b[0;34m\u001b[0m\u001b[0m\n\u001b[0;32m---> 38\u001b[0;31m             \u001b[0mwriter\u001b[0m\u001b[0;34m.\u001b[0m\u001b[0mwriterows\u001b[0m\u001b[0;34m(\u001b[0m\u001b[0mpopular_movie_data\u001b[0m\u001b[0;34m)\u001b[0m \u001b[0;31m# represents rows of data being inserted\u001b[0m\u001b[0;34m\u001b[0m\u001b[0;34m\u001b[0m\u001b[0m\n\u001b[0m\u001b[1;32m     39\u001b[0m         \u001b[0mprint\u001b[0m\u001b[0;34m(\u001b[0m\u001b[0;34m\"File is saved successfully\"\u001b[0m\u001b[0;34m)\u001b[0m\u001b[0;34m\u001b[0m\u001b[0;34m\u001b[0m\u001b[0m\n\u001b[1;32m     40\u001b[0m \u001b[0;34m\u001b[0m\u001b[0m\n",
            "\u001b[0;31mNameError\u001b[0m: name 'popular_movie_data' is not defined"
          ]
        }
      ]
    },
    {
      "cell_type": "code",
      "source": [],
      "metadata": {
        "id": "PrJ4LZmy6SKg"
      },
      "execution_count": null,
      "outputs": []
    }
  ]
}