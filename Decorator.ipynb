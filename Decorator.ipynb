{
  "nbformat": 4,
  "nbformat_minor": 0,
  "metadata": {
    "colab": {
      "provenance": [],
      "authorship_tag": "ABX9TyMtf5UHgLfdRPjdnPcOSgSq",
      "include_colab_link": true
    },
    "kernelspec": {
      "name": "python3",
      "display_name": "Python 3"
    },
    "language_info": {
      "name": "python"
    }
  },
  "cells": [
    {
      "cell_type": "markdown",
      "metadata": {
        "id": "view-in-github",
        "colab_type": "text"
      },
      "source": [
        "<a href=\"https://colab.research.google.com/github/PrajaktaKumavat/AdvPython/blob/main/Decorator.ipynb\" target=\"_parent\"><img src=\"https://colab.research.google.com/assets/colab-badge.svg\" alt=\"Open In Colab\"/></a>"
      ]
    },
    {
      "cell_type": "markdown",
      "source": [
        "Write a decorator which checks the performance of functions"
      ],
      "metadata": {
        "id": "R-iBbWWMwEh_"
      }
    },
    {
      "cell_type": "code",
      "source": [
        "import time"
      ],
      "metadata": {
        "id": "hhwWx7yAwLdn"
      },
      "execution_count": 1,
      "outputs": []
    },
    {
      "cell_type": "code",
      "source": [
        "# delay the execution time by x number of seconds time.sleep(x)\n",
        "time.sleep(5)"
      ],
      "metadata": {
        "id": "K90QUqacwPYO"
      },
      "execution_count": 2,
      "outputs": []
    },
    {
      "cell_type": "code",
      "source": [
        "time.perf_counter()"
      ],
      "metadata": {
        "colab": {
          "base_uri": "https://localhost:8080/"
        },
        "id": "AhmjdHCfwUri",
        "outputId": "44d70571-5df2-42d4-8b01-b2351b49615f"
      },
      "execution_count": 3,
      "outputs": [
        {
          "output_type": "execute_result",
          "data": {
            "text/plain": [
              "97.701655111"
            ]
          },
          "metadata": {},
          "execution_count": 3
        }
      ]
    },
    {
      "cell_type": "code",
      "source": [
        "def performance_checker(func):\n",
        "    def wrapper(*args,**kwargs):\n",
        "        # before function execution, note down the time\n",
        "        start = time.perf_counter()\n",
        "        result = func(*args,**kwargs)\n",
        "        #after function execution, note down the time\n",
        "        stop = time.perf_counter()\n",
        "        # calculate the time taken to execute the function\n",
        "        time_taken = stop-start\n",
        "        #print the results\n",
        "        print(f\"Time taken to execute this function is {time_taken}\")\n",
        "        return result\n",
        "    return wrapper"
      ],
      "metadata": {
        "id": "ls4ky3s9wbGT"
      },
      "execution_count": 4,
      "outputs": []
    },
    {
      "cell_type": "code",
      "source": [
        "@performance_checker\n",
        "def generate_sq(data:list):\n",
        "    new_sq = []\n",
        "    for i in data:\n",
        "        new_sq.append(i**2)\n",
        "    return new_sq"
      ],
      "metadata": {
        "id": "VBg82rcJwjv2"
      },
      "execution_count": 5,
      "outputs": []
    },
    {
      "cell_type": "code",
      "source": [
        "l1 = [34,67,89,1245,3456,18978]"
      ],
      "metadata": {
        "id": "uDum54CtwnUs"
      },
      "execution_count": 6,
      "outputs": []
    },
    {
      "cell_type": "code",
      "source": [
        "l1_sq = generate_sq(l1)"
      ],
      "metadata": {
        "colab": {
          "base_uri": "https://localhost:8080/"
        },
        "id": "9PW6lZ5vwqVW",
        "outputId": "3c4c0152-5dc2-4414-df12-e1c1e059e59a"
      },
      "execution_count": 7,
      "outputs": [
        {
          "output_type": "stream",
          "name": "stdout",
          "text": [
            "Time taken to execute this function is 2.7520000003278255e-06\n"
          ]
        }
      ]
    },
    {
      "cell_type": "code",
      "source": [
        "l1_sq"
      ],
      "metadata": {
        "colab": {
          "base_uri": "https://localhost:8080/"
        },
        "id": "RChs9Aogwvqn",
        "outputId": "33bc809d-d801-4a13-e240-160fcfd1f7d7"
      },
      "execution_count": 8,
      "outputs": [
        {
          "output_type": "execute_result",
          "data": {
            "text/plain": [
              "[1156, 4489, 7921, 1550025, 11943936, 360164484]"
            ]
          },
          "metadata": {},
          "execution_count": 8
        }
      ]
    },
    {
      "cell_type": "code",
      "source": [
        "list(map(int,input(\"Enter numeric data separated by space\").split()))"
      ],
      "metadata": {
        "colab": {
          "base_uri": "https://localhost:8080/"
        },
        "id": "b0lSqwDNw18O",
        "outputId": "2bf224a6-1e71-4524-d841-782af25696e8"
      },
      "execution_count": 9,
      "outputs": [
        {
          "name": "stdout",
          "output_type": "stream",
          "text": [
            "Enter numeric data separated by space23 54 777777 879 5 78 \n"
          ]
        },
        {
          "output_type": "execute_result",
          "data": {
            "text/plain": [
              "[23, 54, 777777, 879, 5, 78]"
            ]
          },
          "metadata": {},
          "execution_count": 9
        }
      ]
    },
    {
      "cell_type": "code",
      "source": [
        "@performance_checker\n",
        "def generate_sq_2():\n",
        "    data = list(map(int,input(\"Enter numeric data separated by space\").split()))\n",
        "    time.sleep(5)\n",
        "    new_sq = []\n",
        "    for i in data:\n",
        "        new_sq.append(i**2)\n",
        "    return new_sq"
      ],
      "metadata": {
        "id": "tRnRSM2Cw4nC"
      },
      "execution_count": 10,
      "outputs": []
    },
    {
      "cell_type": "code",
      "source": [
        "l2 = generate_sq_2()"
      ],
      "metadata": {
        "colab": {
          "base_uri": "https://localhost:8080/"
        },
        "id": "ZoIMv9uzxD1W",
        "outputId": "42a3010f-a520-49b5-e64e-8265fdbd770d"
      },
      "execution_count": 11,
      "outputs": [
        {
          "output_type": "stream",
          "name": "stdout",
          "text": [
            "Enter numeric data separated by space45 7 77878 53 78 89 232\n",
            "Time taken to execute this function is 18.818579060000047\n"
          ]
        }
      ]
    },
    {
      "cell_type": "markdown",
      "source": [
        "# Authentication scenario"
      ],
      "metadata": {
        "id": "AP2raq53xTbc"
      }
    },
    {
      "cell_type": "markdown",
      "source": [
        "Write a decorator which validates user details provided and allows only such users to access the function who are present in its data."
      ],
      "metadata": {
        "id": "VklvPCSwxanv"
      }
    },
    {
      "cell_type": "code",
      "source": [
        "user_data = {\n",
        "    \"Raman\":\"R^&34amn\",\n",
        "    \"Suman\":\"S23!@mn\",\n",
        "    \"Thaman\":\"LK09%^nmb\"\n",
        "}"
      ],
      "metadata": {
        "id": "eBdOVxntxeL7"
      },
      "execution_count": 12,
      "outputs": []
    },
    {
      "cell_type": "code",
      "source": [
        "user_data[\"Raman\"]"
      ],
      "metadata": {
        "colab": {
          "base_uri": "https://localhost:8080/",
          "height": 36
        },
        "id": "nnVZqNTUxhjU",
        "outputId": "7cf462b8-6086-4e08-9cf4-29392798f2b5"
      },
      "execution_count": 13,
      "outputs": [
        {
          "output_type": "execute_result",
          "data": {
            "text/plain": [
              "'R^&34amn'"
            ],
            "application/vnd.google.colaboratory.intrinsic+json": {
              "type": "string"
            }
          },
          "metadata": {},
          "execution_count": 13
        }
      ]
    },
    {
      "cell_type": "code",
      "source": [
        "user_data[\"Raman\"] == 'Raman'"
      ],
      "metadata": {
        "colab": {
          "base_uri": "https://localhost:8080/"
        },
        "id": "R8Arj9Pyxk1K",
        "outputId": "1b1f77fd-e9e7-4bab-d236-adc6e746745e"
      },
      "execution_count": 14,
      "outputs": [
        {
          "output_type": "execute_result",
          "data": {
            "text/plain": [
              "False"
            ]
          },
          "metadata": {},
          "execution_count": 14
        }
      ]
    },
    {
      "cell_type": "code",
      "source": [
        "user_data[\"Baman\"]"
      ],
      "metadata": {
        "colab": {
          "base_uri": "https://localhost:8080/",
          "height": 141
        },
        "id": "z5I2qLTAxpFB",
        "outputId": "a561972e-ca5a-4223-cc96-f80590c4cd26"
      },
      "execution_count": 15,
      "outputs": [
        {
          "output_type": "error",
          "ename": "KeyError",
          "evalue": "'Baman'",
          "traceback": [
            "\u001b[0;31m---------------------------------------------------------------------------\u001b[0m",
            "\u001b[0;31mKeyError\u001b[0m                                  Traceback (most recent call last)",
            "\u001b[0;32m<ipython-input-15-90b73d20fc99>\u001b[0m in \u001b[0;36m<cell line: 0>\u001b[0;34m()\u001b[0m\n\u001b[0;32m----> 1\u001b[0;31m \u001b[0muser_data\u001b[0m\u001b[0;34m[\u001b[0m\u001b[0;34m\"Baman\"\u001b[0m\u001b[0;34m]\u001b[0m\u001b[0;34m\u001b[0m\u001b[0;34m\u001b[0m\u001b[0m\n\u001b[0m",
            "\u001b[0;31mKeyError\u001b[0m: 'Baman'"
          ]
        }
      ]
    },
    {
      "cell_type": "code",
      "source": [
        "user_data[\"Baman\"] == \"baman\""
      ],
      "metadata": {
        "colab": {
          "base_uri": "https://localhost:8080/",
          "height": 141
        },
        "id": "HqX2__G0xt-l",
        "outputId": "aa6ac254-66e6-4070-df45-846767647075"
      },
      "execution_count": 16,
      "outputs": [
        {
          "output_type": "error",
          "ename": "KeyError",
          "evalue": "'Baman'",
          "traceback": [
            "\u001b[0;31m---------------------------------------------------------------------------\u001b[0m",
            "\u001b[0;31mKeyError\u001b[0m                                  Traceback (most recent call last)",
            "\u001b[0;32m<ipython-input-16-1424d3e9c147>\u001b[0m in \u001b[0;36m<cell line: 0>\u001b[0;34m()\u001b[0m\n\u001b[0;32m----> 1\u001b[0;31m \u001b[0muser_data\u001b[0m\u001b[0;34m[\u001b[0m\u001b[0;34m\"Baman\"\u001b[0m\u001b[0;34m]\u001b[0m \u001b[0;34m==\u001b[0m \u001b[0;34m\"baman\"\u001b[0m\u001b[0;34m\u001b[0m\u001b[0;34m\u001b[0m\u001b[0m\n\u001b[0m",
            "\u001b[0;31mKeyError\u001b[0m: 'Baman'"
          ]
        }
      ]
    },
    {
      "cell_type": "code",
      "source": [
        "# if user is not present, user_data.get(key) will not throw an error\n",
        "user_data.get(\"Baman\") # internally it gives None keyword"
      ],
      "metadata": {
        "id": "66hYCadRx3mE"
      },
      "execution_count": 17,
      "outputs": []
    },
    {
      "cell_type": "code",
      "source": [
        "user_data.get(\"Baman\",\"Not Available\")"
      ],
      "metadata": {
        "colab": {
          "base_uri": "https://localhost:8080/",
          "height": 36
        },
        "id": "tQZxtYRdx70d",
        "outputId": "7b308263-8ffd-4db3-c55c-e1180ad3a420"
      },
      "execution_count": 18,
      "outputs": [
        {
          "output_type": "execute_result",
          "data": {
            "text/plain": [
              "'Not Available'"
            ],
            "application/vnd.google.colaboratory.intrinsic+json": {
              "type": "string"
            }
          },
          "metadata": {},
          "execution_count": 18
        }
      ]
    },
    {
      "cell_type": "code",
      "source": [
        "\n",
        "user_data.get(\"Raman\") == \"Raman\""
      ],
      "metadata": {
        "colab": {
          "base_uri": "https://localhost:8080/"
        },
        "id": "ASp5F4hTx_rY",
        "outputId": "ab5cd838-0ae2-4e1c-f78b-351be49f86f9"
      },
      "execution_count": 19,
      "outputs": [
        {
          "output_type": "execute_result",
          "data": {
            "text/plain": [
              "False"
            ]
          },
          "metadata": {},
          "execution_count": 19
        }
      ]
    },
    {
      "cell_type": "code",
      "source": [
        "\n",
        "user_data"
      ],
      "metadata": {
        "colab": {
          "base_uri": "https://localhost:8080/"
        },
        "id": "P7vrI-oyyHOZ",
        "outputId": "8376494c-3d8e-4265-c2c2-6be622c2f5a1"
      },
      "execution_count": 20,
      "outputs": [
        {
          "output_type": "execute_result",
          "data": {
            "text/plain": [
              "{'Raman': 'R^&34amn', 'Suman': 'S23!@mn', 'Thaman': 'LK09%^nmb'}"
            ]
          },
          "metadata": {},
          "execution_count": 20
        }
      ]
    },
    {
      "cell_type": "code",
      "source": [
        "def authenticator(func):\n",
        "    def wrapper(username,password,*args,**kwargs):\n",
        "        if username in user_data.keys() and password in user_data.get(username):\n",
        "            print(f\"Welcome to this page {username}\")\n",
        "            result = func(username,password,*args,**kwargs)\n",
        "            print(f\"Function got executed successfuly. Results are {result}\")\n",
        "            return result\n",
        "        else:\n",
        "            print(f\"Sorry {username}. Authentication is unsuccessful.Please check your credentails\")\n",
        "    return wrapper"
      ],
      "metadata": {
        "id": "kpURWi80yO9B"
      },
      "execution_count": 21,
      "outputs": []
    },
    {
      "cell_type": "code",
      "source": [
        "@authenticator\n",
        "def generate_sq(username,password,data:list):\n",
        "    new_sq = []\n",
        "    for i in data:\n",
        "        new_sq.append(i**2)\n",
        "    return new_sq"
      ],
      "metadata": {
        "id": "o1SDl9bTySOB"
      },
      "execution_count": 22,
      "outputs": []
    },
    {
      "cell_type": "code",
      "source": [
        "g1 = generate_sq('Raman','R^&34amn',[45,67,89,12,34])"
      ],
      "metadata": {
        "colab": {
          "base_uri": "https://localhost:8080/"
        },
        "id": "yNuPt6NryVD7",
        "outputId": "c04ad36b-4879-4211-c4dc-e3ff31e91b5d"
      },
      "execution_count": 23,
      "outputs": [
        {
          "output_type": "stream",
          "name": "stdout",
          "text": [
            "Welcome to this page Raman\n",
            "Function got executed successfuly. Results are [2025, 4489, 7921, 144, 1156]\n"
          ]
        }
      ]
    },
    {
      "cell_type": "code",
      "source": [
        "g2 = generate_sq('Raman','R90&34amn',[45,67,89,12,34])\n"
      ],
      "metadata": {
        "colab": {
          "base_uri": "https://localhost:8080/"
        },
        "id": "LXUHY68zyZb7",
        "outputId": "dc0156f1-6e62-4d5d-c0d4-3f6f58f23b25"
      },
      "execution_count": 24,
      "outputs": [
        {
          "output_type": "stream",
          "name": "stdout",
          "text": [
            "Sorry Raman. Authentication is unsuccessful.Please check your credentails\n"
          ]
        }
      ]
    },
    {
      "cell_type": "code",
      "source": [
        "@authenticator\n",
        "def fact(username,password,n):\n",
        "    p = 1\n",
        "    for i in range(1,n+1):\n",
        "        p=p*i\n",
        "    return p"
      ],
      "metadata": {
        "id": "kksVJo24yyXF"
      },
      "execution_count": 25,
      "outputs": []
    },
    {
      "cell_type": "code",
      "source": [
        "f1 = fact('Thaman','LK09%^nmb',50)"
      ],
      "metadata": {
        "colab": {
          "base_uri": "https://localhost:8080/"
        },
        "id": "hep2rREwy1b0",
        "outputId": "974eb642-0a22-4ce6-894f-9a32b7c8e4c4"
      },
      "execution_count": 26,
      "outputs": [
        {
          "output_type": "stream",
          "name": "stdout",
          "text": [
            "Welcome to this page Thaman\n",
            "Function got executed successfuly. Results are 30414093201713378043612608166064768844377641568960512000000000000\n"
          ]
        }
      ]
    },
    {
      "cell_type": "code",
      "source": [
        "f2 = fact('Baman','Nmanan',3)"
      ],
      "metadata": {
        "colab": {
          "base_uri": "https://localhost:8080/"
        },
        "id": "fKe0AFSvy4Gn",
        "outputId": "d54f4164-102a-44fc-8cd6-aff0af9f9b47"
      },
      "execution_count": 27,
      "outputs": [
        {
          "output_type": "stream",
          "name": "stdout",
          "text": [
            "Sorry Baman. Authentication is unsuccessful.Please check your credentails\n"
          ]
        }
      ]
    },
    {
      "cell_type": "code",
      "source": [],
      "metadata": {
        "id": "5h93trLby7xl"
      },
      "execution_count": null,
      "outputs": []
    }
  ]
}