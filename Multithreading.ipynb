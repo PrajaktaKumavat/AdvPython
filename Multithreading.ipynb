{
  "nbformat": 4,
  "nbformat_minor": 0,
  "metadata": {
    "colab": {
      "provenance": [],
      "authorship_tag": "ABX9TyPvBCRsD3zjIUDMUlPbq0EI",
      "include_colab_link": true
    },
    "kernelspec": {
      "name": "python3",
      "display_name": "Python 3"
    },
    "language_info": {
      "name": "python"
    }
  },
  "cells": [
    {
      "cell_type": "markdown",
      "metadata": {
        "id": "view-in-github",
        "colab_type": "text"
      },
      "source": [
        "<a href=\"https://colab.research.google.com/github/PrajaktaKumavat/AdvPython/blob/main/Multithreading.ipynb\" target=\"_parent\"><img src=\"https://colab.research.google.com/assets/colab-badge.svg\" alt=\"Open In Colab\"/></a>"
      ]
    },
    {
      "cell_type": "code",
      "execution_count": 1,
      "metadata": {
        "id": "GP1nJhcskQjX"
      },
      "outputs": [],
      "source": [
        "import time\n"
      ]
    },
    {
      "cell_type": "code",
      "source": [
        "def sq_data(num):\n",
        "    \"\"\"\n",
        "    Takes the input as a number and retuns the square of number as output\n",
        "    \"\"\"\n",
        "    # Introducing sleep of 3 seconds\n",
        "    time.sleep(3)\n",
        "    c = num**2\n",
        "    print(f\"Square of num {num} is {c}\")\n",
        "    return c"
      ],
      "metadata": {
        "id": "4t6ehXpItDDX"
      },
      "execution_count": 2,
      "outputs": []
    },
    {
      "cell_type": "code",
      "source": [
        "sq_data(35)"
      ],
      "metadata": {
        "colab": {
          "base_uri": "https://localhost:8080/"
        },
        "id": "nFwN3G70tJNm",
        "outputId": "f817a98d-6f75-4d36-c22b-ef91d213963a"
      },
      "execution_count": 3,
      "outputs": [
        {
          "output_type": "stream",
          "name": "stdout",
          "text": [
            "Square of num 35 is 1225\n"
          ]
        },
        {
          "output_type": "execute_result",
          "data": {
            "text/plain": [
              "1225"
            ]
          },
          "metadata": {},
          "execution_count": 3
        }
      ]
    },
    {
      "cell_type": "code",
      "source": [
        "def simple_interest(p,n,r):\n",
        "    \"\"\"\n",
        "    Takes principal,number of years and rate of interest as inputs.\n",
        "    Returns simple interest amount as output\n",
        "    \"\"\"\n",
        "    time.sleep(5)\n",
        "    si = (p*n*r)/100\n",
        "    print(f\"Simple interest is {si}\")\n",
        "    return si"
      ],
      "metadata": {
        "id": "t2tS5fzdtK66"
      },
      "execution_count": 4,
      "outputs": []
    },
    {
      "cell_type": "code",
      "source": [
        "simple_interest(45000,2,3.5)"
      ],
      "metadata": {
        "colab": {
          "base_uri": "https://localhost:8080/"
        },
        "id": "8Wz5FJ1ptRGZ",
        "outputId": "c7fefc78-03c4-4e0c-be8a-61d4e5f65bbe"
      },
      "execution_count": 5,
      "outputs": [
        {
          "output_type": "stream",
          "name": "stdout",
          "text": [
            "Simple interest is 3150.0\n"
          ]
        },
        {
          "output_type": "execute_result",
          "data": {
            "text/plain": [
              "3150.0"
            ]
          },
          "metadata": {},
          "execution_count": 5
        }
      ]
    },
    {
      "cell_type": "code",
      "source": [
        "%%time\n",
        "s1 = simple_interest(56000,3,3.9)\n",
        "s1"
      ],
      "metadata": {
        "colab": {
          "base_uri": "https://localhost:8080/"
        },
        "id": "6EdIfgFUtTGE",
        "outputId": "6a3cf0f1-510c-4cd4-9d5e-a5beddc8df8e"
      },
      "execution_count": 6,
      "outputs": [
        {
          "output_type": "stream",
          "name": "stdout",
          "text": [
            "Simple interest is 6552.0\n",
            "CPU times: user 17.7 ms, sys: 5.5 ms, total: 23.2 ms\n",
            "Wall time: 5 s\n"
          ]
        },
        {
          "output_type": "execute_result",
          "data": {
            "text/plain": [
              "6552.0"
            ]
          },
          "metadata": {},
          "execution_count": 6
        }
      ]
    },
    {
      "cell_type": "code",
      "source": [
        "%%time\n",
        "from threading import Thread\n",
        "th1 = Thread(target=sq_data,args=(125,))\n",
        "th2 = Thread(target=simple_interest,args=(340000,6,12.5,))\n",
        "\n",
        "th1.start()\n",
        "th2.start()\n",
        "\n",
        "th1.join()\n",
        "th2.join()\n"
      ],
      "metadata": {
        "colab": {
          "base_uri": "https://localhost:8080/"
        },
        "id": "Khk3NCwQtY8v",
        "outputId": "eb75fef0-3f5d-4931-ab88-27ebc92465a3"
      },
      "execution_count": 8,
      "outputs": [
        {
          "output_type": "stream",
          "name": "stdout",
          "text": [
            "Square of num 125 is 15625\n",
            "Simple interest is 255000.0\n",
            "CPU times: user 21.8 ms, sys: 6.15 ms, total: 28 ms\n",
            "Wall time: 5 s\n"
          ]
        }
      ]
    },
    {
      "cell_type": "markdown",
      "source": [],
      "metadata": {
        "id": "b2-1umdPtsQD"
      }
    },
    {
      "cell_type": "markdown",
      "source": [
        "# Threads donot store the outputs.\n",
        "We will have to create functions with dictionary storage format and then use threads"
      ],
      "metadata": {
        "id": "1zFt6OEFtrXx"
      }
    },
    {
      "cell_type": "code",
      "source": [
        "def factorial(num):\n",
        "    p =1\n",
        "    for i in range(1,num+1):\n",
        "        p=p*i\n",
        "    return p"
      ],
      "metadata": {
        "id": "x_6HE-K9tctN"
      },
      "execution_count": 9,
      "outputs": []
    },
    {
      "cell_type": "code",
      "source": [
        "factorial(5)"
      ],
      "metadata": {
        "colab": {
          "base_uri": "https://localhost:8080/"
        },
        "id": "qF__pMZQt2aA",
        "outputId": "b17b0e08-5b8c-4894-f234-958473a6caec"
      },
      "execution_count": 10,
      "outputs": [
        {
          "output_type": "execute_result",
          "data": {
            "text/plain": [
              "120"
            ]
          },
          "metadata": {},
          "execution_count": 10
        }
      ]
    },
    {
      "cell_type": "code",
      "source": [
        "def factorial2(num,results,key):\n",
        "    time.sleep(3)\n",
        "    p =1\n",
        "    for i in range(1,num+1):\n",
        "        p=p*i\n",
        "    results[key] = p"
      ],
      "metadata": {
        "id": "-vOxxOhlt4Jo"
      },
      "execution_count": 11,
      "outputs": []
    },
    {
      "cell_type": "code",
      "source": [
        "fact_results = {}\n",
        "factorial2(5,fact_results,5)"
      ],
      "metadata": {
        "id": "YXAy-Vtvt6Uv"
      },
      "execution_count": 12,
      "outputs": []
    },
    {
      "cell_type": "code",
      "source": [
        "fact_results"
      ],
      "metadata": {
        "colab": {
          "base_uri": "https://localhost:8080/"
        },
        "id": "5CZuZ45jt9Jj",
        "outputId": "0252c43f-b5c8-4cf6-dc5d-fda2ed935858"
      },
      "execution_count": 13,
      "outputs": [
        {
          "output_type": "execute_result",
          "data": {
            "text/plain": [
              "{5: 120}"
            ]
          },
          "metadata": {},
          "execution_count": 13
        }
      ]
    },
    {
      "cell_type": "code",
      "source": [
        "fact_results.get(5)"
      ],
      "metadata": {
        "colab": {
          "base_uri": "https://localhost:8080/"
        },
        "id": "swoThypKuBb0",
        "outputId": "7c435fc4-7bce-4fde-d44f-084925c14145"
      },
      "execution_count": 14,
      "outputs": [
        {
          "output_type": "execute_result",
          "data": {
            "text/plain": [
              "120"
            ]
          },
          "metadata": {},
          "execution_count": 14
        }
      ]
    },
    {
      "cell_type": "code",
      "source": [
        "fact_results[5]"
      ],
      "metadata": {
        "colab": {
          "base_uri": "https://localhost:8080/"
        },
        "id": "bp3eyj9xuHHI",
        "outputId": "5746cd59-c39b-41df-9815-fa1ed3a08f2a"
      },
      "execution_count": 15,
      "outputs": [
        {
          "output_type": "execute_result",
          "data": {
            "text/plain": [
              "120"
            ]
          },
          "metadata": {},
          "execution_count": 15
        }
      ]
    },
    {
      "cell_type": "code",
      "source": [
        "# palindrome\n",
        "st1 = 'madam'\n",
        "st1[::-1]"
      ],
      "metadata": {
        "colab": {
          "base_uri": "https://localhost:8080/",
          "height": 36
        },
        "id": "XHoBk4R_uLLZ",
        "outputId": "c6eab8f6-8d51-4eb7-8554-cccf6d0029d4"
      },
      "execution_count": 16,
      "outputs": [
        {
          "output_type": "execute_result",
          "data": {
            "text/plain": [
              "'madam'"
            ],
            "application/vnd.google.colaboratory.intrinsic+json": {
              "type": "string"
            }
          },
          "metadata": {},
          "execution_count": 16
        }
      ]
    },
    {
      "cell_type": "code",
      "source": [
        "def palindrome(string,results,key):\n",
        "    time.sleep(4)\n",
        "    if string == string[::-1]:\n",
        "        results[key] = 'PALINDROME'\n",
        "    else:\n",
        "        results[key] = 'NOT A PALINDROME'"
      ],
      "metadata": {
        "id": "dnHJ2hgduU5z"
      },
      "execution_count": 17,
      "outputs": []
    },
    {
      "cell_type": "code",
      "source": [
        "%%time\n",
        "total_results = {}\n",
        "th3 = Thread(target=factorial2,args=(10,total_results,\"Factorail of 10 \",))\n",
        "th4 = Thread(target=palindrome,args=(\"madam\",total_results,\"Palindrome for Madam text\",))\n",
        "\n",
        "th3.start()\n",
        "th4.start()\n",
        "\n",
        "th3.join()\n",
        "th4.join()\n",
        "\n",
        "# print the results\n",
        "print(\"Factorial Output\",total_results[\"Factorail of 10 \"])\n",
        "print(\"Palindrme output\",total_results[\"Palindrome for Madam text\"])"
      ],
      "metadata": {
        "colab": {
          "base_uri": "https://localhost:8080/"
        },
        "id": "avphr21sub06",
        "outputId": "f2d97766-dac9-4dd3-ac44-4d64ef2d03ff"
      },
      "execution_count": 18,
      "outputs": [
        {
          "output_type": "stream",
          "name": "stdout",
          "text": [
            "Factorial Output 3628800\n",
            "Palindrme output PALINDROME\n",
            "CPU times: user 17.7 ms, sys: 1.27 ms, total: 19 ms\n",
            "Wall time: 4 s\n"
          ]
        }
      ]
    },
    {
      "cell_type": "code",
      "source": [
        "total_results"
      ],
      "metadata": {
        "colab": {
          "base_uri": "https://localhost:8080/"
        },
        "id": "_53mJKeHuj0r",
        "outputId": "a0e9121b-11cd-4d0a-87ab-ec2be3bc4985"
      },
      "execution_count": 19,
      "outputs": [
        {
          "output_type": "execute_result",
          "data": {
            "text/plain": [
              "{'Factorail of 10 ': 3628800, 'Palindrome for Madam text': 'PALINDROME'}"
            ]
          },
          "metadata": {},
          "execution_count": 19
        }
      ]
    },
    {
      "cell_type": "code",
      "source": [],
      "metadata": {
        "id": "KHLrVu98uoA6"
      },
      "execution_count": null,
      "outputs": []
    }
  ]
}