{
  "nbformat": 4,
  "nbformat_minor": 0,
  "metadata": {
    "colab": {
      "provenance": [],
      "authorship_tag": "ABX9TyPIpx7bWrR2I3blMNjNYOIu",
      "include_colab_link": true
    },
    "kernelspec": {
      "name": "python3",
      "display_name": "Python 3"
    },
    "language_info": {
      "name": "python"
    }
  },
  "cells": [
    {
      "cell_type": "markdown",
      "metadata": {
        "id": "view-in-github",
        "colab_type": "text"
      },
      "source": [
        "<a href=\"https://colab.research.google.com/github/PrajaktaKumavat/AdvPython/blob/main/Inheritance.ipynb\" target=\"_parent\"><img src=\"https://colab.research.google.com/assets/colab-badge.svg\" alt=\"Open In Colab\"/></a>"
      ]
    },
    {
      "cell_type": "code",
      "execution_count": 2,
      "metadata": {
        "colab": {
          "base_uri": "https://localhost:8080/"
        },
        "id": "n-hG9I4gF_iD",
        "outputId": "a3a94fbb-cc4d-4cea-abbe-16616fb1df96"
      },
      "outputs": [
        {
          "output_type": "stream",
          "name": "stdout",
          "text": [
            "John\n",
            "36\n"
          ]
        }
      ],
      "source": [
        "class person:\n",
        "  def __init__(self,name,age):\n",
        "    self.name=name\n",
        "    self.age=age\n",
        "\n",
        "  def introduce(self):\n",
        "    print(f\"Hi everyone, I am {self.name} and I am {self.age} years old\")\n",
        "\n",
        "\n",
        "\n",
        "p1=person(\"John\",36)\n",
        "print(p1.name)\n",
        "print(p1.age)"
      ]
    },
    {
      "cell_type": "code",
      "source": [
        "p1.introduce()"
      ],
      "metadata": {
        "colab": {
          "base_uri": "https://localhost:8080/"
        },
        "id": "TSVDbrkVTx4c",
        "outputId": "5f7b9834-705e-4c0b-bcfa-3db509bf0bea"
      },
      "execution_count": 3,
      "outputs": [
        {
          "output_type": "stream",
          "name": "stdout",
          "text": [
            "Hi everyone, I am John and I am 36 years old\n"
          ]
        }
      ]
    },
    {
      "cell_type": "code",
      "source": [
        "\n",
        "class employee(person):\n",
        "    # create attributes for employee class\n",
        "    def __init__(self,company,num):\n",
        "        self.company = company\n",
        "        self.num = num\n",
        "\n",
        "    # create a function that provides work details of person\n",
        "    def work(self):\n",
        "        print(f\"I am working at {self.company} from past {self.num}years\")"
      ],
      "metadata": {
        "id": "Am5JGYpJT9v3"
      },
      "execution_count": 4,
      "outputs": []
    },
    {
      "cell_type": "code",
      "source": [
        "\n",
        "e2 = employee(\"Wipro\",3)"
      ],
      "metadata": {
        "id": "1LrsixqSUA4x"
      },
      "execution_count": 5,
      "outputs": []
    },
    {
      "cell_type": "code",
      "source": [
        "e2.num"
      ],
      "metadata": {
        "colab": {
          "base_uri": "https://localhost:8080/"
        },
        "id": "Lhr1qHe2UFAK",
        "outputId": "fa235ead-8c44-4d94-ec0d-ece79f3646c7"
      },
      "execution_count": 6,
      "outputs": [
        {
          "output_type": "execute_result",
          "data": {
            "text/plain": [
              "3"
            ]
          },
          "metadata": {},
          "execution_count": 6
        }
      ]
    },
    {
      "cell_type": "code",
      "source": [
        "\n",
        "e2.company"
      ],
      "metadata": {
        "colab": {
          "base_uri": "https://localhost:8080/",
          "height": 36
        },
        "id": "x6LVGq4bUJ7h",
        "outputId": "9f3c51dc-fcbb-445d-b9fe-098db266689f"
      },
      "execution_count": 7,
      "outputs": [
        {
          "output_type": "execute_result",
          "data": {
            "text/plain": [
              "'Wipro'"
            ],
            "application/vnd.google.colaboratory.intrinsic+json": {
              "type": "string"
            }
          },
          "metadata": {},
          "execution_count": 7
        }
      ]
    },
    {
      "cell_type": "code",
      "source": [
        "#e2.company\n",
        "\n",
        "#e1 = employee()\n",
        "\n",
        "#e2.name"
      ],
      "metadata": {
        "id": "73v6XKrBULxp"
      },
      "execution_count": 8,
      "outputs": []
    },
    {
      "cell_type": "markdown",
      "source": [
        "# All above errors are valid errors. because, we haven't provided any link between parent attributes and child class"
      ],
      "metadata": {
        "id": "-HhzdfkRUZ_R"
      }
    },
    {
      "cell_type": "code",
      "source": [
        "class employee2(person):\n",
        "    # create attributes for employee class\n",
        "    def __init__(self, name, age,company,num):\n",
        "        super().__init__(name, age)\n",
        "        # person.__init__(name, age)\n",
        "        self.company = company\n",
        "        self.num = num\n",
        "\n",
        "    '''\n",
        "    def __init__(self,company,num):\n",
        "        self.company = company\n",
        "        self.num = num\n",
        "    '''\n",
        "\n",
        "    # create a function that provides work details of person\n",
        "    def work(self):\n",
        "        super().introduce()\n",
        "        print(f\"I am working at {self.company} from past {self.num}years\")"
      ],
      "metadata": {
        "id": "FiE9ixAgUZQK"
      },
      "execution_count": 9,
      "outputs": []
    },
    {
      "cell_type": "code",
      "source": [
        "\n",
        "e3 = employee2(\"Raman\",45,\"Wipro\",3)"
      ],
      "metadata": {
        "id": "eMqt3tr9UjSu"
      },
      "execution_count": 10,
      "outputs": []
    },
    {
      "cell_type": "code",
      "source": [
        "\n",
        "e3.age\n",
        "\n",
        "e3.name\n",
        "\n",
        "e3.work()"
      ],
      "metadata": {
        "colab": {
          "base_uri": "https://localhost:8080/"
        },
        "id": "wtTuqo6IUlWk",
        "outputId": "b17b8270-69ad-42be-c536-1cf205f93b1c"
      },
      "execution_count": 11,
      "outputs": [
        {
          "output_type": "stream",
          "name": "stdout",
          "text": [
            "Hi everyone, I am Raman and I am 45 years old\n",
            "I am working at Wipro from past 3years\n"
          ]
        }
      ]
    },
    {
      "cell_type": "code",
      "source": [],
      "metadata": {
        "id": "RvkpdsfaUtzQ"
      },
      "execution_count": null,
      "outputs": []
    },
    {
      "cell_type": "markdown",
      "source": [
        "# Multilevel Inheritance"
      ],
      "metadata": {
        "id": "ecDrd6pmUwUE"
      }
    },
    {
      "cell_type": "code",
      "source": [
        "\n",
        "#parent class\n",
        "class emp:\n",
        "    def __init__(self,name,employee_id):\n",
        "        self.name = name\n",
        "        self.employee_id = employee_id\n",
        "\n",
        "    def get_emp_info(self):\n",
        "        return (f\"Employee details are : Name: {self.name}, ID: {self.employee_id}\")"
      ],
      "metadata": {
        "id": "eZEBeD3UUzSG"
      },
      "execution_count": 12,
      "outputs": []
    },
    {
      "cell_type": "code",
      "source": [
        "\n",
        "# child class1\n",
        "class manager(emp):\n",
        "    def __init__(self, name, employee_id,department):\n",
        "        super().__init__(name, employee_id)\n",
        "        self.department = department\n",
        "\n",
        "    def get_dept_info(self):\n",
        "        return (f\"Employee department details are : {self.get_emp_info()}, Department: {self.department}\")\n"
      ],
      "metadata": {
        "id": "MQ72lQ1xU2AR"
      },
      "execution_count": 13,
      "outputs": []
    },
    {
      "cell_type": "code",
      "source": [
        "\n",
        "#child class 2\n",
        "class projectmanager(manager):\n",
        "    def __init__(self, name, employee_id, department,project):\n",
        "        super().__init__(name, employee_id, department)\n",
        "        self.project = project\n",
        "\n",
        "    def get_project_info(self):\n",
        "        return (f\"Employee details are : {self.get_dept_info()},Project: {self.project}\")"
      ],
      "metadata": {
        "id": "Lw0E0GyJU48u"
      },
      "execution_count": 14,
      "outputs": []
    },
    {
      "cell_type": "code",
      "source": [
        "pm1 = projectmanager(\"Thaman\",234234,\"Finance\",\"PM108\")\n",
        "\n",
        "pm1.name\n",
        "\n",
        "pm1.project\n",
        "\n",
        "pm1.get_emp_info()\n",
        "\n",
        "pm1.get_dept_info()\n",
        "pm1.get_project_info()"
      ],
      "metadata": {
        "colab": {
          "base_uri": "https://localhost:8080/",
          "height": 36
        },
        "id": "_rJgaVFWU62z",
        "outputId": "38e34a23-1e35-4086-8687-b63ff521770b"
      },
      "execution_count": 15,
      "outputs": [
        {
          "output_type": "execute_result",
          "data": {
            "text/plain": [
              "'Employee details are : Employee department details are : Employee details are : Name: Thaman, ID: 234234, Department: Finance,Project: PM108'"
            ],
            "application/vnd.google.colaboratory.intrinsic+json": {
              "type": "string"
            }
          },
          "metadata": {},
          "execution_count": 15
        }
      ]
    },
    {
      "cell_type": "markdown",
      "source": [
        "# Multilevel Inheritance"
      ],
      "metadata": {
        "id": "YJSXUJCKVy0p"
      }
    },
    {
      "cell_type": "code",
      "source": [
        "\n",
        "#parent class\n",
        "class emp:\n",
        "    def __init__(self,name,employee_id):\n",
        "        self.name = name\n",
        "        self.employee_id = employee_id\n",
        "\n",
        "    def get_emp_info(self):\n",
        "        return (f\"Employee details are : Name: {self.name}, ID: {self.employee_id}\")"
      ],
      "metadata": {
        "id": "8yqc3tNWVJnb"
      },
      "execution_count": 16,
      "outputs": []
    },
    {
      "cell_type": "code",
      "source": [
        "\n",
        "# child class1\n",
        "class manager(emp):\n",
        "    def __init__(self, name, employee_id,department):\n",
        "        super().__init__(name, employee_id)\n",
        "        self.department = department\n",
        "\n",
        "    def get_dept_info(self):\n",
        "        return (f\"Employee department details are : {self.get_emp_info()}, Department: {self.department}\")"
      ],
      "metadata": {
        "id": "eVSyxS1XV-LP"
      },
      "execution_count": 17,
      "outputs": []
    },
    {
      "cell_type": "code",
      "source": [
        "\n",
        "#child class 2\n",
        "class projectmanager(manager):\n",
        "    def __init__(self, name, employee_id, department,project):\n",
        "        super().__init__(name, employee_id, department)\n",
        "        self.project = project\n",
        "\n",
        "    def get_project_info(self):\n",
        "        return (f\"Employee details are : {self.get_dept_info()},Project: {self.project}\")"
      ],
      "metadata": {
        "id": "GIVgypgdWAoV"
      },
      "execution_count": 18,
      "outputs": []
    },
    {
      "cell_type": "code",
      "source": [
        "\n",
        "pm1 = projectmanager(\"Thaman\",234234,\"Finance\",\"PM108\")\n",
        "\n",
        "pm1.name\n",
        "\n",
        "pm1.project\n",
        "\n",
        "pm1.get_emp_info()\n",
        "\n",
        "\n",
        "pm1.get_dept_info()\n",
        "\n",
        "\n",
        "pm1.get_project_info()"
      ],
      "metadata": {
        "colab": {
          "base_uri": "https://localhost:8080/",
          "height": 36
        },
        "id": "L-5q8EiTWkBU",
        "outputId": "f3d1b87c-f148-47ae-df3b-9dfe14a8d713"
      },
      "execution_count": 19,
      "outputs": [
        {
          "output_type": "execute_result",
          "data": {
            "text/plain": [
              "'Employee details are : Employee department details are : Employee details are : Name: Thaman, ID: 234234, Department: Finance,Project: PM108'"
            ],
            "application/vnd.google.colaboratory.intrinsic+json": {
              "type": "string"
            }
          },
          "metadata": {},
          "execution_count": 19
        }
      ]
    },
    {
      "cell_type": "markdown",
      "source": [
        "# Hierarchial Inherfitance"
      ],
      "metadata": {
        "id": "kLfnSuVOW24f"
      }
    },
    {
      "cell_type": "code",
      "source": [
        "\n",
        "class garve_hyundai:\n",
        "    def __init__(self,name,location):\n",
        "        self.name = name\n",
        "        self.location = location\n",
        "    def greeting(self):\n",
        "        print(f\"Hello {self.name}. Welcome to the showroom.\")\n",
        "\n",
        "    def models(self):\n",
        "        print(\"We have latest models available at the showroom like Grandi10,Grandi20\")"
      ],
      "metadata": {
        "id": "15iGdCRcWxUi"
      },
      "execution_count": 20,
      "outputs": []
    },
    {
      "cell_type": "code",
      "source": [
        "\n",
        "#child class1\n",
        "class grandi10(garve_hyundai):\n",
        "    def __init__(self, name, location,price_lookup):\n",
        "        super().__init__(name, location)\n",
        "        self.price_lookup = price_lookup\n",
        "\n",
        "    def enquiry_price(self):\n",
        "        super().greeting()\n",
        "        print(\"Price range of this car is 9Lakhs\")\n",
        "        if self.price_lookup>10:\n",
        "            print(f\"Please check our best models falling under the same range with additional features\")\n",
        ""
      ],
      "metadata": {
        "id": "-9IKEhi1W_48"
      },
      "execution_count": 21,
      "outputs": []
    },
    {
      "cell_type": "code",
      "source": [
        "\n",
        "#child class 2\n",
        "class grandi20(garve_hyundai):\n",
        "    def __init__(self, name, location,price_range):\n",
        "        super().__init__(name, location)\n",
        "        self.price_range = price_range\n",
        "\n",
        "    def enquiry_price(self):\n",
        "        super().greeting()\n",
        "        print(\"Price range of this car is 20Lakhs\")\n",
        "        if self.price_range<10:\n",
        "            print(f\"Please check our best models falling under the same range with additional features\")\n"
      ],
      "metadata": {
        "id": "togJoazLXCse"
      },
      "execution_count": 22,
      "outputs": []
    },
    {
      "cell_type": "code",
      "source": [
        "\n",
        "\n",
        "gi10 = grandi10(\"Suman\",\"Wakad\",18)"
      ],
      "metadata": {
        "id": "6Xv66Lv_XErA"
      },
      "execution_count": 23,
      "outputs": []
    },
    {
      "cell_type": "code",
      "source": [
        "\n",
        "gi10.enquiry_price()"
      ],
      "metadata": {
        "colab": {
          "base_uri": "https://localhost:8080/"
        },
        "id": "3V-Xw9PeXHLN",
        "outputId": "ca65a08e-f058-421a-8a27-2164cc6eaf23"
      },
      "execution_count": 24,
      "outputs": [
        {
          "output_type": "stream",
          "name": "stdout",
          "text": [
            "Hello Suman. Welcome to the showroom.\n",
            "Price range of this car is 9Lakhs\n",
            "Please check our best models falling under the same range with additional features\n"
          ]
        }
      ]
    },
    {
      "cell_type": "code",
      "source": [
        "\n",
        "gi20 = grandi20(\"Naman\",\"Rahtani\",7)"
      ],
      "metadata": {
        "id": "VazkUVVRXI7d"
      },
      "execution_count": 25,
      "outputs": []
    },
    {
      "cell_type": "code",
      "source": [
        "\n",
        "gi20.enquiry_price()"
      ],
      "metadata": {
        "colab": {
          "base_uri": "https://localhost:8080/"
        },
        "id": "XyXj2IrmXL0j",
        "outputId": "c8fe0c19-3cae-4b71-e4a1-b5ac2950e2f2"
      },
      "execution_count": 26,
      "outputs": [
        {
          "output_type": "stream",
          "name": "stdout",
          "text": [
            "Hello Naman. Welcome to the showroom.\n",
            "Price range of this car is 20Lakhs\n",
            "Please check our best models falling under the same range with additional features\n"
          ]
        }
      ]
    },
    {
      "cell_type": "code",
      "source": [
        "\n",
        "gi20_2 = grandi20(\"Chaman\",\"Pimpri\",17)"
      ],
      "metadata": {
        "id": "ROTzae9YXOTE"
      },
      "execution_count": 27,
      "outputs": []
    },
    {
      "cell_type": "code",
      "source": [
        "\n",
        "gi20_2.enquiry_price()"
      ],
      "metadata": {
        "colab": {
          "base_uri": "https://localhost:8080/"
        },
        "id": "kLX1vDBAXTko",
        "outputId": "4a0a19c9-83df-4d84-aeea-6e983da4aa13"
      },
      "execution_count": 28,
      "outputs": [
        {
          "output_type": "stream",
          "name": "stdout",
          "text": [
            "Hello Chaman. Welcome to the showroom.\n",
            "Price range of this car is 20Lakhs\n"
          ]
        }
      ]
    },
    {
      "cell_type": "code",
      "source": [],
      "metadata": {
        "id": "TTIY2p3GXVM_"
      },
      "execution_count": null,
      "outputs": []
    }
  ]
}